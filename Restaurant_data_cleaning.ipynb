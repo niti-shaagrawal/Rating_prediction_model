{
 "cells": [
  {
   "cell_type": "code",
   "execution_count": 1,
   "id": "c35f6ecb-b088-41d8-9730-98aa9d86af68",
   "metadata": {},
   "outputs": [],
   "source": [
    "import pandas as pd\n",
    "import numpy as np"
   ]
  },
  {
   "cell_type": "code",
   "execution_count": 2,
   "id": "54c39667-e6cf-4927-a922-4859dc72cff3",
   "metadata": {},
   "outputs": [],
   "source": [
    "data= pd.read_csv(\"C:/Users/Dell/Desktop/python/final_data.csv\")"
   ]
  },
  {
   "cell_type": "code",
   "execution_count": 3,
   "id": "9612cb07-c3c3-4fa9-9b79-c469507c38e4",
   "metadata": {},
   "outputs": [
    {
     "data": {
      "text/html": [
       "<div>\n",
       "<style scoped>\n",
       "    .dataframe tbody tr th:only-of-type {\n",
       "        vertical-align: middle;\n",
       "    }\n",
       "\n",
       "    .dataframe tbody tr th {\n",
       "        vertical-align: top;\n",
       "    }\n",
       "\n",
       "    .dataframe thead th {\n",
       "        text-align: right;\n",
       "    }\n",
       "</style>\n",
       "<table border=\"1\" class=\"dataframe\">\n",
       "  <thead>\n",
       "    <tr style=\"text-align: right;\">\n",
       "      <th></th>\n",
       "      <th>Restaurant_Name</th>\n",
       "      <th>Category</th>\n",
       "      <th>Pricing_for_2</th>\n",
       "      <th>Locality</th>\n",
       "      <th>Dining_Rating</th>\n",
       "      <th>Dining_Review_Count</th>\n",
       "      <th>Delivery_Rating</th>\n",
       "      <th>Delivery_Rating_Count</th>\n",
       "      <th>Website</th>\n",
       "      <th>Address</th>\n",
       "      <th>Phone_No</th>\n",
       "      <th>Latitude</th>\n",
       "      <th>Longitude</th>\n",
       "      <th>Known_For2</th>\n",
       "      <th>Known_For22</th>\n",
       "    </tr>\n",
       "  </thead>\n",
       "  <tbody>\n",
       "    <tr>\n",
       "      <th>0</th>\n",
       "      <td>Rustom's</td>\n",
       "      <td>Parsi, Street Food, North Indian, Desserts, Be...</td>\n",
       "      <td>2100</td>\n",
       "      <td>ITO, New Delhi</td>\n",
       "      <td>4.9</td>\n",
       "      <td>1885</td>\n",
       "      <td>4.4</td>\n",
       "      <td>1844</td>\n",
       "      <td>https://www.zomato.com/ncr/rustoms-ito-new-delhi</td>\n",
       "      <td>Delhi Parsi Anjuman, LNJP Colony, Bahadur Shah...</td>\n",
       "      <td>9.20E+11</td>\n",
       "      <td>28.638167</td>\n",
       "      <td>77.240472</td>\n",
       "      <td>NaN</td>\n",
       "      <td>NaN</td>\n",
       "    </tr>\n",
       "    <tr>\n",
       "      <th>1</th>\n",
       "      <td>Cafe Lota</td>\n",
       "      <td>Cafe, South Indian, North Indian, Beverages</td>\n",
       "      <td>1200</td>\n",
       "      <td>Pragati Maidan, New Delhi</td>\n",
       "      <td>4.9</td>\n",
       "      <td>3748</td>\n",
       "      <td>3.9</td>\n",
       "      <td>37</td>\n",
       "      <td>https://www.zomato.com/ncr/cafe-lota-pragati-m...</td>\n",
       "      <td>National Crafts Museum, Gate 2, Bhairon Marg, ...</td>\n",
       "      <td>9.18E+11</td>\n",
       "      <td>28.613429</td>\n",
       "      <td>77.242471</td>\n",
       "      <td>Pondicherry Fish Curry, Coconut Rabdi, Sabudan...</td>\n",
       "      <td>Artistic Decor, The Service, Natural Ambience,...</td>\n",
       "    </tr>\n",
       "    <tr>\n",
       "      <th>2</th>\n",
       "      <td>Dum-Pukht - ITC Maurya</td>\n",
       "      <td>Mughlai, North Indian, Desserts</td>\n",
       "      <td>5000</td>\n",
       "      <td>ITC Maurya, Chanakyapuri, New Delhi</td>\n",
       "      <td>4.9</td>\n",
       "      <td>1371</td>\n",
       "      <td>NaN</td>\n",
       "      <td>0</td>\n",
       "      <td>https://www.zomato.com/ncr/dum-pukht-itc-maury...</td>\n",
       "      <td>ITC Maurya, Chanakyapuri, New Delhi</td>\n",
       "      <td>9.11E+11</td>\n",
       "      <td>28.598200</td>\n",
       "      <td>77.173661</td>\n",
       "      <td>Royal ambiance and Mughlai cuisine, also recei...</td>\n",
       "      <td>NaN</td>\n",
       "    </tr>\n",
       "    <tr>\n",
       "      <th>3</th>\n",
       "      <td>Burma Burma</td>\n",
       "      <td>Asian, Burmese, Bubble Tea, Desserts, Salad</td>\n",
       "      <td>1600</td>\n",
       "      <td>Cyber Hub, DLF Cyber City, Gurgaon</td>\n",
       "      <td>4.9</td>\n",
       "      <td>2636</td>\n",
       "      <td>4.4</td>\n",
       "      <td>1238</td>\n",
       "      <td>https://www.zomato.com/ncr/burma-burma-dlf-cyb...</td>\n",
       "      <td>Shop 6, Ground Floor, Building 8, Tower C, Cyb...</td>\n",
       "      <td>9.11E+11</td>\n",
       "      <td>28.494464</td>\n",
       "      <td>77.088532</td>\n",
       "      <td>Coconut Milk Dessert, Honey Caviar, Kaffir Lim...</td>\n",
       "      <td>Knowledgeable Staff, Authentic, Soothing Ambie...</td>\n",
       "    </tr>\n",
       "    <tr>\n",
       "      <th>4</th>\n",
       "      <td>The Big Chill</td>\n",
       "      <td>Continental, American, Italian</td>\n",
       "      <td>1500</td>\n",
       "      <td>Khan Market, New Delhi</td>\n",
       "      <td>4.9</td>\n",
       "      <td>6487</td>\n",
       "      <td>NaN</td>\n",
       "      <td>0</td>\n",
       "      <td>https://www.zomato.com/ncr/the-big-chill-khan-...</td>\n",
       "      <td>68-A, Khan Market, New Delhi</td>\n",
       "      <td>9.11E+11</td>\n",
       "      <td>28.600350</td>\n",
       "      <td>77.227493</td>\n",
       "      <td>Irish Cream Tiramisu, Penne Vodka, Mississippi...</td>\n",
       "      <td>Retro Ambience, Yummy Desserts, Big Portions, ...</td>\n",
       "    </tr>\n",
       "  </tbody>\n",
       "</table>\n",
       "</div>"
      ],
      "text/plain": [
       "          Restaurant_Name                                           Category  \\\n",
       "0                Rustom's  Parsi, Street Food, North Indian, Desserts, Be...   \n",
       "1               Cafe Lota        Cafe, South Indian, North Indian, Beverages   \n",
       "2  Dum-Pukht - ITC Maurya                    Mughlai, North Indian, Desserts   \n",
       "3             Burma Burma        Asian, Burmese, Bubble Tea, Desserts, Salad   \n",
       "4           The Big Chill                     Continental, American, Italian   \n",
       "\n",
       "   Pricing_for_2                              Locality  Dining_Rating  \\\n",
       "0           2100                        ITO, New Delhi            4.9   \n",
       "1           1200             Pragati Maidan, New Delhi            4.9   \n",
       "2           5000   ITC Maurya, Chanakyapuri, New Delhi            4.9   \n",
       "3           1600    Cyber Hub, DLF Cyber City, Gurgaon            4.9   \n",
       "4           1500                Khan Market, New Delhi            4.9   \n",
       "\n",
       "   Dining_Review_Count  Delivery_Rating  Delivery_Rating_Count  \\\n",
       "0                 1885              4.4                   1844   \n",
       "1                 3748              3.9                     37   \n",
       "2                 1371              NaN                      0   \n",
       "3                 2636              4.4                   1238   \n",
       "4                 6487              NaN                      0   \n",
       "\n",
       "                                             Website  \\\n",
       "0   https://www.zomato.com/ncr/rustoms-ito-new-delhi   \n",
       "1  https://www.zomato.com/ncr/cafe-lota-pragati-m...   \n",
       "2  https://www.zomato.com/ncr/dum-pukht-itc-maury...   \n",
       "3  https://www.zomato.com/ncr/burma-burma-dlf-cyb...   \n",
       "4  https://www.zomato.com/ncr/the-big-chill-khan-...   \n",
       "\n",
       "                                             Address  Phone_No   Latitude  \\\n",
       "0  Delhi Parsi Anjuman, LNJP Colony, Bahadur Shah...  9.20E+11  28.638167   \n",
       "1  National Crafts Museum, Gate 2, Bhairon Marg, ...  9.18E+11  28.613429   \n",
       "2                ITC Maurya, Chanakyapuri, New Delhi  9.11E+11  28.598200   \n",
       "3  Shop 6, Ground Floor, Building 8, Tower C, Cyb...  9.11E+11  28.494464   \n",
       "4                       68-A, Khan Market, New Delhi  9.11E+11  28.600350   \n",
       "\n",
       "   Longitude                                         Known_For2  \\\n",
       "0  77.240472                                                NaN   \n",
       "1  77.242471  Pondicherry Fish Curry, Coconut Rabdi, Sabudan...   \n",
       "2  77.173661  Royal ambiance and Mughlai cuisine, also recei...   \n",
       "3  77.088532  Coconut Milk Dessert, Honey Caviar, Kaffir Lim...   \n",
       "4  77.227493  Irish Cream Tiramisu, Penne Vodka, Mississippi...   \n",
       "\n",
       "                                         Known_For22  \n",
       "0                                                NaN  \n",
       "1  Artistic Decor, The Service, Natural Ambience,...  \n",
       "2                                                NaN  \n",
       "3  Knowledgeable Staff, Authentic, Soothing Ambie...  \n",
       "4  Retro Ambience, Yummy Desserts, Big Portions, ...  "
      ]
     },
     "execution_count": 3,
     "metadata": {},
     "output_type": "execute_result"
    }
   ],
   "source": [
    "data.head()"
   ]
  },
  {
   "cell_type": "code",
   "execution_count": 4,
   "id": "d23699dd-7601-4b78-85a5-6f4a74c9758f",
   "metadata": {},
   "outputs": [
    {
     "data": {
      "text/plain": [
       "np.False_"
      ]
     },
     "execution_count": 4,
     "metadata": {},
     "output_type": "execute_result"
    }
   ],
   "source": [
    "data.duplicated().any()"
   ]
  },
  {
   "cell_type": "code",
   "execution_count": 5,
   "id": "35ee0ed7-1386-425b-922f-0f526358f1a5",
   "metadata": {},
   "outputs": [
    {
     "data": {
      "text/plain": [
       "Restaurant_Name          False\n",
       "Category                 False\n",
       "Pricing_for_2            False\n",
       "Locality                 False\n",
       "Dining_Rating            False\n",
       "Dining_Review_Count      False\n",
       "Delivery_Rating           True\n",
       "Delivery_Rating_Count    False\n",
       "Website                  False\n",
       "Address                  False\n",
       "Phone_No                 False\n",
       "Latitude                 False\n",
       "Longitude                False\n",
       "Known_For2                True\n",
       "Known_For22               True\n",
       "dtype: bool"
      ]
     },
     "execution_count": 5,
     "metadata": {},
     "output_type": "execute_result"
    }
   ],
   "source": [
    "data.isnull().any()"
   ]
  },
  {
   "cell_type": "code",
   "execution_count": 6,
   "id": "1bd85b5e-974c-47f3-9cad-5beba37b7bd7",
   "metadata": {},
   "outputs": [
    {
     "data": {
      "text/plain": [
       "Index(['Restaurant_Name', 'Category', 'Pricing_for_2', 'Locality',\n",
       "       'Dining_Rating', 'Dining_Review_Count', 'Delivery_Rating',\n",
       "       'Delivery_Rating_Count', 'Website', 'Address', 'Phone_No', 'Latitude',\n",
       "       'Longitude', 'Known_For2', 'Known_For22'],\n",
       "      dtype='object')"
      ]
     },
     "execution_count": 6,
     "metadata": {},
     "output_type": "execute_result"
    }
   ],
   "source": [
    "data.columns"
   ]
  },
  {
   "cell_type": "code",
   "execution_count": 7,
   "id": "0344ed98-fa37-4421-a26c-67aec5aea61a",
   "metadata": {},
   "outputs": [
    {
     "data": {
      "text/html": [
       "<div>\n",
       "<style scoped>\n",
       "    .dataframe tbody tr th:only-of-type {\n",
       "        vertical-align: middle;\n",
       "    }\n",
       "\n",
       "    .dataframe tbody tr th {\n",
       "        vertical-align: top;\n",
       "    }\n",
       "\n",
       "    .dataframe thead th {\n",
       "        text-align: right;\n",
       "    }\n",
       "</style>\n",
       "<table border=\"1\" class=\"dataframe\">\n",
       "  <thead>\n",
       "    <tr style=\"text-align: right;\">\n",
       "      <th></th>\n",
       "      <th>Restaurant_Name</th>\n",
       "      <th>Category</th>\n",
       "      <th>Pricing_for_2</th>\n",
       "      <th>Locality</th>\n",
       "      <th>Dining_Rating</th>\n",
       "      <th>Dining_Review_Count</th>\n",
       "      <th>Delivery_Rating</th>\n",
       "      <th>Delivery_Rating_Count</th>\n",
       "      <th>Website</th>\n",
       "      <th>Address</th>\n",
       "      <th>Phone_No</th>\n",
       "      <th>Latitude</th>\n",
       "      <th>Longitude</th>\n",
       "      <th>Known_For2</th>\n",
       "      <th>Known_For22</th>\n",
       "    </tr>\n",
       "  </thead>\n",
       "  <tbody>\n",
       "    <tr>\n",
       "      <th>0</th>\n",
       "      <td>Rustom's</td>\n",
       "      <td>Parsi, Street Food, North Indian, Desserts, Be...</td>\n",
       "      <td>2100</td>\n",
       "      <td>ITO, New Delhi</td>\n",
       "      <td>4.9</td>\n",
       "      <td>1885</td>\n",
       "      <td>4.4</td>\n",
       "      <td>1844</td>\n",
       "      <td>https://www.zomato.com/ncr/rustoms-ito-new-delhi</td>\n",
       "      <td>Delhi Parsi Anjuman, LNJP Colony, Bahadur Shah...</td>\n",
       "      <td>9.20E+11</td>\n",
       "      <td>28.638167</td>\n",
       "      <td>77.240472</td>\n",
       "      <td>NaN</td>\n",
       "      <td>NaN</td>\n",
       "    </tr>\n",
       "    <tr>\n",
       "      <th>1</th>\n",
       "      <td>Cafe Lota</td>\n",
       "      <td>Cafe, South Indian, North Indian, Beverages</td>\n",
       "      <td>1200</td>\n",
       "      <td>Pragati Maidan, New Delhi</td>\n",
       "      <td>4.9</td>\n",
       "      <td>3748</td>\n",
       "      <td>3.9</td>\n",
       "      <td>37</td>\n",
       "      <td>https://www.zomato.com/ncr/cafe-lota-pragati-m...</td>\n",
       "      <td>National Crafts Museum, Gate 2, Bhairon Marg, ...</td>\n",
       "      <td>9.18E+11</td>\n",
       "      <td>28.613429</td>\n",
       "      <td>77.242471</td>\n",
       "      <td>Pondicherry Fish Curry, Coconut Rabdi, Sabudan...</td>\n",
       "      <td>Artistic Decor, The Service, Natural Ambience,...</td>\n",
       "    </tr>\n",
       "    <tr>\n",
       "      <th>2</th>\n",
       "      <td>Dum-Pukht - ITC Maurya</td>\n",
       "      <td>Mughlai, North Indian, Desserts</td>\n",
       "      <td>5000</td>\n",
       "      <td>ITC Maurya, Chanakyapuri, New Delhi</td>\n",
       "      <td>4.9</td>\n",
       "      <td>1371</td>\n",
       "      <td>NaN</td>\n",
       "      <td>0</td>\n",
       "      <td>https://www.zomato.com/ncr/dum-pukht-itc-maury...</td>\n",
       "      <td>ITC Maurya, Chanakyapuri, New Delhi</td>\n",
       "      <td>9.11E+11</td>\n",
       "      <td>28.598200</td>\n",
       "      <td>77.173661</td>\n",
       "      <td>Royal ambiance and Mughlai cuisine, also recei...</td>\n",
       "      <td>NaN</td>\n",
       "    </tr>\n",
       "    <tr>\n",
       "      <th>3</th>\n",
       "      <td>Burma Burma</td>\n",
       "      <td>Asian, Burmese, Bubble Tea, Desserts, Salad</td>\n",
       "      <td>1600</td>\n",
       "      <td>Cyber Hub, DLF Cyber City, Gurgaon</td>\n",
       "      <td>4.9</td>\n",
       "      <td>2636</td>\n",
       "      <td>4.4</td>\n",
       "      <td>1238</td>\n",
       "      <td>https://www.zomato.com/ncr/burma-burma-dlf-cyb...</td>\n",
       "      <td>Shop 6, Ground Floor, Building 8, Tower C, Cyb...</td>\n",
       "      <td>9.11E+11</td>\n",
       "      <td>28.494464</td>\n",
       "      <td>77.088532</td>\n",
       "      <td>Coconut Milk Dessert, Honey Caviar, Kaffir Lim...</td>\n",
       "      <td>Knowledgeable Staff, Authentic, Soothing Ambie...</td>\n",
       "    </tr>\n",
       "    <tr>\n",
       "      <th>4</th>\n",
       "      <td>The Big Chill</td>\n",
       "      <td>Continental, American, Italian</td>\n",
       "      <td>1500</td>\n",
       "      <td>Khan Market, New Delhi</td>\n",
       "      <td>4.9</td>\n",
       "      <td>6487</td>\n",
       "      <td>NaN</td>\n",
       "      <td>0</td>\n",
       "      <td>https://www.zomato.com/ncr/the-big-chill-khan-...</td>\n",
       "      <td>68-A, Khan Market, New Delhi</td>\n",
       "      <td>9.11E+11</td>\n",
       "      <td>28.600350</td>\n",
       "      <td>77.227493</td>\n",
       "      <td>Irish Cream Tiramisu, Penne Vodka, Mississippi...</td>\n",
       "      <td>Retro Ambience, Yummy Desserts, Big Portions, ...</td>\n",
       "    </tr>\n",
       "  </tbody>\n",
       "</table>\n",
       "</div>"
      ],
      "text/plain": [
       "          Restaurant_Name                                           Category  \\\n",
       "0                Rustom's  Parsi, Street Food, North Indian, Desserts, Be...   \n",
       "1               Cafe Lota        Cafe, South Indian, North Indian, Beverages   \n",
       "2  Dum-Pukht - ITC Maurya                    Mughlai, North Indian, Desserts   \n",
       "3             Burma Burma        Asian, Burmese, Bubble Tea, Desserts, Salad   \n",
       "4           The Big Chill                     Continental, American, Italian   \n",
       "\n",
       "   Pricing_for_2                              Locality  Dining_Rating  \\\n",
       "0           2100                        ITO, New Delhi            4.9   \n",
       "1           1200             Pragati Maidan, New Delhi            4.9   \n",
       "2           5000   ITC Maurya, Chanakyapuri, New Delhi            4.9   \n",
       "3           1600    Cyber Hub, DLF Cyber City, Gurgaon            4.9   \n",
       "4           1500                Khan Market, New Delhi            4.9   \n",
       "\n",
       "   Dining_Review_Count  Delivery_Rating  Delivery_Rating_Count  \\\n",
       "0                 1885              4.4                   1844   \n",
       "1                 3748              3.9                     37   \n",
       "2                 1371              NaN                      0   \n",
       "3                 2636              4.4                   1238   \n",
       "4                 6487              NaN                      0   \n",
       "\n",
       "                                             Website  \\\n",
       "0   https://www.zomato.com/ncr/rustoms-ito-new-delhi   \n",
       "1  https://www.zomato.com/ncr/cafe-lota-pragati-m...   \n",
       "2  https://www.zomato.com/ncr/dum-pukht-itc-maury...   \n",
       "3  https://www.zomato.com/ncr/burma-burma-dlf-cyb...   \n",
       "4  https://www.zomato.com/ncr/the-big-chill-khan-...   \n",
       "\n",
       "                                             Address  Phone_No   Latitude  \\\n",
       "0  Delhi Parsi Anjuman, LNJP Colony, Bahadur Shah...  9.20E+11  28.638167   \n",
       "1  National Crafts Museum, Gate 2, Bhairon Marg, ...  9.18E+11  28.613429   \n",
       "2                ITC Maurya, Chanakyapuri, New Delhi  9.11E+11  28.598200   \n",
       "3  Shop 6, Ground Floor, Building 8, Tower C, Cyb...  9.11E+11  28.494464   \n",
       "4                       68-A, Khan Market, New Delhi  9.11E+11  28.600350   \n",
       "\n",
       "   Longitude                                         Known_For2  \\\n",
       "0  77.240472                                                NaN   \n",
       "1  77.242471  Pondicherry Fish Curry, Coconut Rabdi, Sabudan...   \n",
       "2  77.173661  Royal ambiance and Mughlai cuisine, also recei...   \n",
       "3  77.088532  Coconut Milk Dessert, Honey Caviar, Kaffir Lim...   \n",
       "4  77.227493  Irish Cream Tiramisu, Penne Vodka, Mississippi...   \n",
       "\n",
       "                                         Known_For22  \n",
       "0                                                NaN  \n",
       "1  Artistic Decor, The Service, Natural Ambience,...  \n",
       "2                                                NaN  \n",
       "3  Knowledgeable Staff, Authentic, Soothing Ambie...  \n",
       "4  Retro Ambience, Yummy Desserts, Big Portions, ...  "
      ]
     },
     "execution_count": 7,
     "metadata": {},
     "output_type": "execute_result"
    }
   ],
   "source": [
    "data.head()"
   ]
  },
  {
   "cell_type": "code",
   "execution_count": 8,
   "id": "4a246522-7799-485e-bfec-9492565c9f4d",
   "metadata": {},
   "outputs": [
    {
     "data": {
      "text/plain": [
       "Index(['Restaurant_Name', 'Category', 'Pricing_for_2', 'Locality',\n",
       "       'Dining_Rating', 'Dining_Review_Count', 'Delivery_Rating',\n",
       "       'Delivery_Rating_Count', 'Website', 'Address', 'Phone_No', 'Latitude',\n",
       "       'Longitude', 'Known_For2', 'Known_For22'],\n",
       "      dtype='object')"
      ]
     },
     "execution_count": 8,
     "metadata": {},
     "output_type": "execute_result"
    }
   ],
   "source": [
    "data.columns"
   ]
  },
  {
   "cell_type": "code",
   "execution_count": 9,
   "id": "f6d47be1-9cdf-462d-9d13-551f2909e08d",
   "metadata": {},
   "outputs": [
    {
     "data": {
      "text/plain": [
       "Restaurant_Name          False\n",
       "Category                 False\n",
       "Pricing_for_2            False\n",
       "Locality                 False\n",
       "Dining_Rating            False\n",
       "Dining_Review_Count      False\n",
       "Delivery_Rating           True\n",
       "Delivery_Rating_Count    False\n",
       "Website                  False\n",
       "Address                  False\n",
       "Phone_No                 False\n",
       "Latitude                 False\n",
       "Longitude                False\n",
       "Known_For2                True\n",
       "Known_For22               True\n",
       "dtype: bool"
      ]
     },
     "execution_count": 9,
     "metadata": {},
     "output_type": "execute_result"
    }
   ],
   "source": [
    "data.isnull().any()"
   ]
  },
  {
   "cell_type": "code",
   "execution_count": 10,
   "id": "39a69a46-49da-4e45-8181-996ec71d1162",
   "metadata": {},
   "outputs": [
    {
     "name": "stderr",
     "output_type": "stream",
     "text": [
      "C:\\Users\\Dell\\AppData\\Local\\Temp\\ipykernel_10132\\1231668890.py:1: FutureWarning: A value is trying to be set on a copy of a DataFrame or Series through chained assignment using an inplace method.\n",
      "The behavior will change in pandas 3.0. This inplace method will never work because the intermediate object on which we are setting values always behaves as a copy.\n",
      "\n",
      "For example, when doing 'df[col].method(value, inplace=True)', try using 'df.method({col: value}, inplace=True)' or df[col] = df[col].method(value) instead, to perform the operation inplace on the original object.\n",
      "\n",
      "\n",
      "  data['Delivery_Rating'].fillna(data['Delivery_Rating'].mean(), inplace= True)\n"
     ]
    }
   ],
   "source": [
    "data['Delivery_Rating'].fillna(data['Delivery_Rating'].mean(), inplace= True)"
   ]
  },
  {
   "cell_type": "code",
   "execution_count": 11,
   "id": "d181c228-a0b6-4489-b079-52e0ad4e17b1",
   "metadata": {},
   "outputs": [
    {
     "data": {
      "text/plain": [
       "Restaurant_Name            0\n",
       "Category                   0\n",
       "Pricing_for_2              0\n",
       "Locality                   0\n",
       "Dining_Rating              0\n",
       "Dining_Review_Count        0\n",
       "Delivery_Rating            0\n",
       "Delivery_Rating_Count      0\n",
       "Website                    0\n",
       "Address                    0\n",
       "Phone_No                   0\n",
       "Latitude                   0\n",
       "Longitude                  0\n",
       "Known_For2               405\n",
       "Known_For22              841\n",
       "dtype: int64"
      ]
     },
     "execution_count": 11,
     "metadata": {},
     "output_type": "execute_result"
    }
   ],
   "source": [
    "data.isna().sum()"
   ]
  },
  {
   "cell_type": "code",
   "execution_count": 12,
   "id": "579fa974-e382-42b4-9870-82886de152fd",
   "metadata": {},
   "outputs": [],
   "source": [
    "data['Known_For']= data.apply(\n",
    "    lambda row : ','.join(filter(pd.notna, [row['Known_For2'], row['Known_For22']])), axis= 1\n",
    ")"
   ]
  },
  {
   "cell_type": "code",
   "execution_count": 13,
   "id": "8410f7aa-4ba1-4c99-a369-2b0127668092",
   "metadata": {},
   "outputs": [
    {
     "data": {
      "text/plain": [
       "Index(['Restaurant_Name', 'Category', 'Pricing_for_2', 'Locality',\n",
       "       'Dining_Rating', 'Dining_Review_Count', 'Delivery_Rating',\n",
       "       'Delivery_Rating_Count', 'Website', 'Address', 'Phone_No', 'Latitude',\n",
       "       'Longitude', 'Known_For2', 'Known_For22', 'Known_For'],\n",
       "      dtype='object')"
      ]
     },
     "execution_count": 13,
     "metadata": {},
     "output_type": "execute_result"
    }
   ],
   "source": [
    "data.columns"
   ]
  },
  {
   "cell_type": "code",
   "execution_count": 14,
   "id": "126aabcb-0996-4465-be4f-34832b5dc3e0",
   "metadata": {},
   "outputs": [
    {
     "data": {
      "text/html": [
       "<div>\n",
       "<style scoped>\n",
       "    .dataframe tbody tr th:only-of-type {\n",
       "        vertical-align: middle;\n",
       "    }\n",
       "\n",
       "    .dataframe tbody tr th {\n",
       "        vertical-align: top;\n",
       "    }\n",
       "\n",
       "    .dataframe thead th {\n",
       "        text-align: right;\n",
       "    }\n",
       "</style>\n",
       "<table border=\"1\" class=\"dataframe\">\n",
       "  <thead>\n",
       "    <tr style=\"text-align: right;\">\n",
       "      <th></th>\n",
       "      <th>Restaurant_Name</th>\n",
       "      <th>Category</th>\n",
       "      <th>Pricing_for_2</th>\n",
       "      <th>Locality</th>\n",
       "      <th>Dining_Rating</th>\n",
       "      <th>Dining_Review_Count</th>\n",
       "      <th>Delivery_Rating</th>\n",
       "      <th>Delivery_Rating_Count</th>\n",
       "      <th>Website</th>\n",
       "      <th>Address</th>\n",
       "      <th>Phone_No</th>\n",
       "      <th>Latitude</th>\n",
       "      <th>Longitude</th>\n",
       "      <th>Known_For2</th>\n",
       "      <th>Known_For22</th>\n",
       "      <th>Known_For</th>\n",
       "    </tr>\n",
       "  </thead>\n",
       "  <tbody>\n",
       "    <tr>\n",
       "      <th>0</th>\n",
       "      <td>Rustom's</td>\n",
       "      <td>Parsi, Street Food, North Indian, Desserts, Be...</td>\n",
       "      <td>2100</td>\n",
       "      <td>ITO, New Delhi</td>\n",
       "      <td>4.9</td>\n",
       "      <td>1885</td>\n",
       "      <td>4.400000</td>\n",
       "      <td>1844</td>\n",
       "      <td>https://www.zomato.com/ncr/rustoms-ito-new-delhi</td>\n",
       "      <td>Delhi Parsi Anjuman, LNJP Colony, Bahadur Shah...</td>\n",
       "      <td>9.20E+11</td>\n",
       "      <td>28.638167</td>\n",
       "      <td>77.240472</td>\n",
       "      <td>NaN</td>\n",
       "      <td>NaN</td>\n",
       "      <td></td>\n",
       "    </tr>\n",
       "    <tr>\n",
       "      <th>1</th>\n",
       "      <td>Cafe Lota</td>\n",
       "      <td>Cafe, South Indian, North Indian, Beverages</td>\n",
       "      <td>1200</td>\n",
       "      <td>Pragati Maidan, New Delhi</td>\n",
       "      <td>4.9</td>\n",
       "      <td>3748</td>\n",
       "      <td>3.900000</td>\n",
       "      <td>37</td>\n",
       "      <td>https://www.zomato.com/ncr/cafe-lota-pragati-m...</td>\n",
       "      <td>National Crafts Museum, Gate 2, Bhairon Marg, ...</td>\n",
       "      <td>9.18E+11</td>\n",
       "      <td>28.613429</td>\n",
       "      <td>77.242471</td>\n",
       "      <td>Pondicherry Fish Curry, Coconut Rabdi, Sabudan...</td>\n",
       "      <td>Artistic Decor, The Service, Natural Ambience,...</td>\n",
       "      <td>Pondicherry Fish Curry, Coconut Rabdi, Sabudan...</td>\n",
       "    </tr>\n",
       "    <tr>\n",
       "      <th>2</th>\n",
       "      <td>Dum-Pukht - ITC Maurya</td>\n",
       "      <td>Mughlai, North Indian, Desserts</td>\n",
       "      <td>5000</td>\n",
       "      <td>ITC Maurya, Chanakyapuri, New Delhi</td>\n",
       "      <td>4.9</td>\n",
       "      <td>1371</td>\n",
       "      <td>3.964299</td>\n",
       "      <td>0</td>\n",
       "      <td>https://www.zomato.com/ncr/dum-pukht-itc-maury...</td>\n",
       "      <td>ITC Maurya, Chanakyapuri, New Delhi</td>\n",
       "      <td>9.11E+11</td>\n",
       "      <td>28.598200</td>\n",
       "      <td>77.173661</td>\n",
       "      <td>Royal ambiance and Mughlai cuisine, also recei...</td>\n",
       "      <td>NaN</td>\n",
       "      <td>Royal ambiance and Mughlai cuisine, also recei...</td>\n",
       "    </tr>\n",
       "    <tr>\n",
       "      <th>3</th>\n",
       "      <td>Burma Burma</td>\n",
       "      <td>Asian, Burmese, Bubble Tea, Desserts, Salad</td>\n",
       "      <td>1600</td>\n",
       "      <td>Cyber Hub, DLF Cyber City, Gurgaon</td>\n",
       "      <td>4.9</td>\n",
       "      <td>2636</td>\n",
       "      <td>4.400000</td>\n",
       "      <td>1238</td>\n",
       "      <td>https://www.zomato.com/ncr/burma-burma-dlf-cyb...</td>\n",
       "      <td>Shop 6, Ground Floor, Building 8, Tower C, Cyb...</td>\n",
       "      <td>9.11E+11</td>\n",
       "      <td>28.494464</td>\n",
       "      <td>77.088532</td>\n",
       "      <td>Coconut Milk Dessert, Honey Caviar, Kaffir Lim...</td>\n",
       "      <td>Knowledgeable Staff, Authentic, Soothing Ambie...</td>\n",
       "      <td>Coconut Milk Dessert, Honey Caviar, Kaffir Lim...</td>\n",
       "    </tr>\n",
       "    <tr>\n",
       "      <th>4</th>\n",
       "      <td>The Big Chill</td>\n",
       "      <td>Continental, American, Italian</td>\n",
       "      <td>1500</td>\n",
       "      <td>Khan Market, New Delhi</td>\n",
       "      <td>4.9</td>\n",
       "      <td>6487</td>\n",
       "      <td>3.964299</td>\n",
       "      <td>0</td>\n",
       "      <td>https://www.zomato.com/ncr/the-big-chill-khan-...</td>\n",
       "      <td>68-A, Khan Market, New Delhi</td>\n",
       "      <td>9.11E+11</td>\n",
       "      <td>28.600350</td>\n",
       "      <td>77.227493</td>\n",
       "      <td>Irish Cream Tiramisu, Penne Vodka, Mississippi...</td>\n",
       "      <td>Retro Ambience, Yummy Desserts, Big Portions, ...</td>\n",
       "      <td>Irish Cream Tiramisu, Penne Vodka, Mississippi...</td>\n",
       "    </tr>\n",
       "  </tbody>\n",
       "</table>\n",
       "</div>"
      ],
      "text/plain": [
       "          Restaurant_Name                                           Category  \\\n",
       "0                Rustom's  Parsi, Street Food, North Indian, Desserts, Be...   \n",
       "1               Cafe Lota        Cafe, South Indian, North Indian, Beverages   \n",
       "2  Dum-Pukht - ITC Maurya                    Mughlai, North Indian, Desserts   \n",
       "3             Burma Burma        Asian, Burmese, Bubble Tea, Desserts, Salad   \n",
       "4           The Big Chill                     Continental, American, Italian   \n",
       "\n",
       "   Pricing_for_2                              Locality  Dining_Rating  \\\n",
       "0           2100                        ITO, New Delhi            4.9   \n",
       "1           1200             Pragati Maidan, New Delhi            4.9   \n",
       "2           5000   ITC Maurya, Chanakyapuri, New Delhi            4.9   \n",
       "3           1600    Cyber Hub, DLF Cyber City, Gurgaon            4.9   \n",
       "4           1500                Khan Market, New Delhi            4.9   \n",
       "\n",
       "   Dining_Review_Count  Delivery_Rating  Delivery_Rating_Count  \\\n",
       "0                 1885         4.400000                   1844   \n",
       "1                 3748         3.900000                     37   \n",
       "2                 1371         3.964299                      0   \n",
       "3                 2636         4.400000                   1238   \n",
       "4                 6487         3.964299                      0   \n",
       "\n",
       "                                             Website  \\\n",
       "0   https://www.zomato.com/ncr/rustoms-ito-new-delhi   \n",
       "1  https://www.zomato.com/ncr/cafe-lota-pragati-m...   \n",
       "2  https://www.zomato.com/ncr/dum-pukht-itc-maury...   \n",
       "3  https://www.zomato.com/ncr/burma-burma-dlf-cyb...   \n",
       "4  https://www.zomato.com/ncr/the-big-chill-khan-...   \n",
       "\n",
       "                                             Address  Phone_No   Latitude  \\\n",
       "0  Delhi Parsi Anjuman, LNJP Colony, Bahadur Shah...  9.20E+11  28.638167   \n",
       "1  National Crafts Museum, Gate 2, Bhairon Marg, ...  9.18E+11  28.613429   \n",
       "2                ITC Maurya, Chanakyapuri, New Delhi  9.11E+11  28.598200   \n",
       "3  Shop 6, Ground Floor, Building 8, Tower C, Cyb...  9.11E+11  28.494464   \n",
       "4                       68-A, Khan Market, New Delhi  9.11E+11  28.600350   \n",
       "\n",
       "   Longitude                                         Known_For2  \\\n",
       "0  77.240472                                                NaN   \n",
       "1  77.242471  Pondicherry Fish Curry, Coconut Rabdi, Sabudan...   \n",
       "2  77.173661  Royal ambiance and Mughlai cuisine, also recei...   \n",
       "3  77.088532  Coconut Milk Dessert, Honey Caviar, Kaffir Lim...   \n",
       "4  77.227493  Irish Cream Tiramisu, Penne Vodka, Mississippi...   \n",
       "\n",
       "                                         Known_For22  \\\n",
       "0                                                NaN   \n",
       "1  Artistic Decor, The Service, Natural Ambience,...   \n",
       "2                                                NaN   \n",
       "3  Knowledgeable Staff, Authentic, Soothing Ambie...   \n",
       "4  Retro Ambience, Yummy Desserts, Big Portions, ...   \n",
       "\n",
       "                                           Known_For  \n",
       "0                                                     \n",
       "1  Pondicherry Fish Curry, Coconut Rabdi, Sabudan...  \n",
       "2  Royal ambiance and Mughlai cuisine, also recei...  \n",
       "3  Coconut Milk Dessert, Honey Caviar, Kaffir Lim...  \n",
       "4  Irish Cream Tiramisu, Penne Vodka, Mississippi...  "
      ]
     },
     "execution_count": 14,
     "metadata": {},
     "output_type": "execute_result"
    }
   ],
   "source": [
    "data.head()"
   ]
  },
  {
   "cell_type": "code",
   "execution_count": 15,
   "id": "0fef656a-cff6-445d-860d-773ff93cbf83",
   "metadata": {},
   "outputs": [],
   "source": [
    "data= data.drop(columns= ['Known_For2', 'Known_For22'])"
   ]
  },
  {
   "cell_type": "code",
   "execution_count": 16,
   "id": "dbe6bf68-3efd-461c-8bc3-34eab157efa0",
   "metadata": {},
   "outputs": [
    {
     "data": {
      "text/plain": [
       "Index(['Restaurant_Name', 'Category', 'Pricing_for_2', 'Locality',\n",
       "       'Dining_Rating', 'Dining_Review_Count', 'Delivery_Rating',\n",
       "       'Delivery_Rating_Count', 'Website', 'Address', 'Phone_No', 'Latitude',\n",
       "       'Longitude', 'Known_For'],\n",
       "      dtype='object')"
      ]
     },
     "execution_count": 16,
     "metadata": {},
     "output_type": "execute_result"
    }
   ],
   "source": [
    "data.columns"
   ]
  },
  {
   "cell_type": "code",
   "execution_count": 17,
   "id": "f6a5e398-ef23-4773-be74-a8ad88025239",
   "metadata": {},
   "outputs": [
    {
     "data": {
      "text/plain": [
       "Restaurant_Name          False\n",
       "Category                 False\n",
       "Pricing_for_2            False\n",
       "Locality                 False\n",
       "Dining_Rating            False\n",
       "Dining_Review_Count      False\n",
       "Delivery_Rating          False\n",
       "Delivery_Rating_Count    False\n",
       "Website                  False\n",
       "Address                  False\n",
       "Phone_No                 False\n",
       "Latitude                 False\n",
       "Longitude                False\n",
       "Known_For                False\n",
       "dtype: bool"
      ]
     },
     "execution_count": 17,
     "metadata": {},
     "output_type": "execute_result"
    }
   ],
   "source": [
    "data.isnull().any()"
   ]
  },
  {
   "cell_type": "code",
   "execution_count": 18,
   "id": "4c28649b-d668-4d7a-a923-ad0653b8103f",
   "metadata": {},
   "outputs": [
    {
     "data": {
      "text/plain": [
       "array(['',\n",
       "       'Pondicherry Fish Curry, Coconut Rabdi, Sabudana Pop Corn, Chicken Pasanda, Majestic Chicken, Bhapa Doi,Artistic Decor, The Service, Natural Ambience, Fusion Menu, Serene Ambience, Fusion Food',\n",
       "       'Royal ambiance and Mughlai cuisine, also received the \"Times Food Award 2015\" for Culinary Heritage',\n",
       "       ...,\n",
       "       'Excellent Food, Good Ambience, Courteous Staff, Awesome Food, Great Food, Ambiance',\n",
       "       'Pool, Live Music, Cafe, Environment, Good Place, Staff',\n",
       "       'Cordial Staff, Great Recommendations, Mouth Watering Food, Reasonable Prices, Quantity, Ambience'],\n",
       "      dtype=object)"
      ]
     },
     "execution_count": 18,
     "metadata": {},
     "output_type": "execute_result"
    }
   ],
   "source": [
    "data['Known_For'].unique()"
   ]
  },
  {
   "cell_type": "code",
   "execution_count": 19,
   "id": "d4d3638b-aad0-41c0-8a63-695be5ab5a5c",
   "metadata": {},
   "outputs": [
    {
     "data": {
      "text/plain": [
       "np.False_"
      ]
     },
     "execution_count": 19,
     "metadata": {},
     "output_type": "execute_result"
    }
   ],
   "source": [
    "data['Known_For'].isnull().any()"
   ]
  },
  {
   "cell_type": "code",
   "execution_count": 20,
   "id": "0e1257c7-3ef9-416c-b32c-6468a5a00533",
   "metadata": {},
   "outputs": [],
   "source": [
    "import numpy as np "
   ]
  },
  {
   "cell_type": "code",
   "execution_count": 21,
   "id": "863e63aa-a7bc-47f6-bc5f-bf06e53f1f8e",
   "metadata": {},
   "outputs": [],
   "source": [
    "data.replace('', np.nan, inplace= True)"
   ]
  },
  {
   "cell_type": "code",
   "execution_count": 22,
   "id": "be400b2a-3992-42d9-a261-0cb10a7cec80",
   "metadata": {},
   "outputs": [
    {
     "data": {
      "text/html": [
       "<div>\n",
       "<style scoped>\n",
       "    .dataframe tbody tr th:only-of-type {\n",
       "        vertical-align: middle;\n",
       "    }\n",
       "\n",
       "    .dataframe tbody tr th {\n",
       "        vertical-align: top;\n",
       "    }\n",
       "\n",
       "    .dataframe thead th {\n",
       "        text-align: right;\n",
       "    }\n",
       "</style>\n",
       "<table border=\"1\" class=\"dataframe\">\n",
       "  <thead>\n",
       "    <tr style=\"text-align: right;\">\n",
       "      <th></th>\n",
       "      <th>Restaurant_Name</th>\n",
       "      <th>Category</th>\n",
       "      <th>Pricing_for_2</th>\n",
       "      <th>Locality</th>\n",
       "      <th>Dining_Rating</th>\n",
       "      <th>Dining_Review_Count</th>\n",
       "      <th>Delivery_Rating</th>\n",
       "      <th>Delivery_Rating_Count</th>\n",
       "      <th>Website</th>\n",
       "      <th>Address</th>\n",
       "      <th>Phone_No</th>\n",
       "      <th>Latitude</th>\n",
       "      <th>Longitude</th>\n",
       "      <th>Known_For</th>\n",
       "    </tr>\n",
       "  </thead>\n",
       "  <tbody>\n",
       "    <tr>\n",
       "      <th>0</th>\n",
       "      <td>Rustom's</td>\n",
       "      <td>Parsi, Street Food, North Indian, Desserts, Be...</td>\n",
       "      <td>2100</td>\n",
       "      <td>ITO, New Delhi</td>\n",
       "      <td>4.9</td>\n",
       "      <td>1885</td>\n",
       "      <td>4.400000</td>\n",
       "      <td>1844</td>\n",
       "      <td>https://www.zomato.com/ncr/rustoms-ito-new-delhi</td>\n",
       "      <td>Delhi Parsi Anjuman, LNJP Colony, Bahadur Shah...</td>\n",
       "      <td>9.20E+11</td>\n",
       "      <td>28.638167</td>\n",
       "      <td>77.240472</td>\n",
       "      <td>NaN</td>\n",
       "    </tr>\n",
       "    <tr>\n",
       "      <th>1</th>\n",
       "      <td>Cafe Lota</td>\n",
       "      <td>Cafe, South Indian, North Indian, Beverages</td>\n",
       "      <td>1200</td>\n",
       "      <td>Pragati Maidan, New Delhi</td>\n",
       "      <td>4.9</td>\n",
       "      <td>3748</td>\n",
       "      <td>3.900000</td>\n",
       "      <td>37</td>\n",
       "      <td>https://www.zomato.com/ncr/cafe-lota-pragati-m...</td>\n",
       "      <td>National Crafts Museum, Gate 2, Bhairon Marg, ...</td>\n",
       "      <td>9.18E+11</td>\n",
       "      <td>28.613429</td>\n",
       "      <td>77.242471</td>\n",
       "      <td>Pondicherry Fish Curry, Coconut Rabdi, Sabudan...</td>\n",
       "    </tr>\n",
       "    <tr>\n",
       "      <th>2</th>\n",
       "      <td>Dum-Pukht - ITC Maurya</td>\n",
       "      <td>Mughlai, North Indian, Desserts</td>\n",
       "      <td>5000</td>\n",
       "      <td>ITC Maurya, Chanakyapuri, New Delhi</td>\n",
       "      <td>4.9</td>\n",
       "      <td>1371</td>\n",
       "      <td>3.964299</td>\n",
       "      <td>0</td>\n",
       "      <td>https://www.zomato.com/ncr/dum-pukht-itc-maury...</td>\n",
       "      <td>ITC Maurya, Chanakyapuri, New Delhi</td>\n",
       "      <td>9.11E+11</td>\n",
       "      <td>28.598200</td>\n",
       "      <td>77.173661</td>\n",
       "      <td>Royal ambiance and Mughlai cuisine, also recei...</td>\n",
       "    </tr>\n",
       "    <tr>\n",
       "      <th>3</th>\n",
       "      <td>Burma Burma</td>\n",
       "      <td>Asian, Burmese, Bubble Tea, Desserts, Salad</td>\n",
       "      <td>1600</td>\n",
       "      <td>Cyber Hub, DLF Cyber City, Gurgaon</td>\n",
       "      <td>4.9</td>\n",
       "      <td>2636</td>\n",
       "      <td>4.400000</td>\n",
       "      <td>1238</td>\n",
       "      <td>https://www.zomato.com/ncr/burma-burma-dlf-cyb...</td>\n",
       "      <td>Shop 6, Ground Floor, Building 8, Tower C, Cyb...</td>\n",
       "      <td>9.11E+11</td>\n",
       "      <td>28.494464</td>\n",
       "      <td>77.088532</td>\n",
       "      <td>Coconut Milk Dessert, Honey Caviar, Kaffir Lim...</td>\n",
       "    </tr>\n",
       "    <tr>\n",
       "      <th>4</th>\n",
       "      <td>The Big Chill</td>\n",
       "      <td>Continental, American, Italian</td>\n",
       "      <td>1500</td>\n",
       "      <td>Khan Market, New Delhi</td>\n",
       "      <td>4.9</td>\n",
       "      <td>6487</td>\n",
       "      <td>3.964299</td>\n",
       "      <td>0</td>\n",
       "      <td>https://www.zomato.com/ncr/the-big-chill-khan-...</td>\n",
       "      <td>68-A, Khan Market, New Delhi</td>\n",
       "      <td>9.11E+11</td>\n",
       "      <td>28.600350</td>\n",
       "      <td>77.227493</td>\n",
       "      <td>Irish Cream Tiramisu, Penne Vodka, Mississippi...</td>\n",
       "    </tr>\n",
       "  </tbody>\n",
       "</table>\n",
       "</div>"
      ],
      "text/plain": [
       "          Restaurant_Name                                           Category  \\\n",
       "0                Rustom's  Parsi, Street Food, North Indian, Desserts, Be...   \n",
       "1               Cafe Lota        Cafe, South Indian, North Indian, Beverages   \n",
       "2  Dum-Pukht - ITC Maurya                    Mughlai, North Indian, Desserts   \n",
       "3             Burma Burma        Asian, Burmese, Bubble Tea, Desserts, Salad   \n",
       "4           The Big Chill                     Continental, American, Italian   \n",
       "\n",
       "   Pricing_for_2                              Locality  Dining_Rating  \\\n",
       "0           2100                        ITO, New Delhi            4.9   \n",
       "1           1200             Pragati Maidan, New Delhi            4.9   \n",
       "2           5000   ITC Maurya, Chanakyapuri, New Delhi            4.9   \n",
       "3           1600    Cyber Hub, DLF Cyber City, Gurgaon            4.9   \n",
       "4           1500                Khan Market, New Delhi            4.9   \n",
       "\n",
       "   Dining_Review_Count  Delivery_Rating  Delivery_Rating_Count  \\\n",
       "0                 1885         4.400000                   1844   \n",
       "1                 3748         3.900000                     37   \n",
       "2                 1371         3.964299                      0   \n",
       "3                 2636         4.400000                   1238   \n",
       "4                 6487         3.964299                      0   \n",
       "\n",
       "                                             Website  \\\n",
       "0   https://www.zomato.com/ncr/rustoms-ito-new-delhi   \n",
       "1  https://www.zomato.com/ncr/cafe-lota-pragati-m...   \n",
       "2  https://www.zomato.com/ncr/dum-pukht-itc-maury...   \n",
       "3  https://www.zomato.com/ncr/burma-burma-dlf-cyb...   \n",
       "4  https://www.zomato.com/ncr/the-big-chill-khan-...   \n",
       "\n",
       "                                             Address  Phone_No   Latitude  \\\n",
       "0  Delhi Parsi Anjuman, LNJP Colony, Bahadur Shah...  9.20E+11  28.638167   \n",
       "1  National Crafts Museum, Gate 2, Bhairon Marg, ...  9.18E+11  28.613429   \n",
       "2                ITC Maurya, Chanakyapuri, New Delhi  9.11E+11  28.598200   \n",
       "3  Shop 6, Ground Floor, Building 8, Tower C, Cyb...  9.11E+11  28.494464   \n",
       "4                       68-A, Khan Market, New Delhi  9.11E+11  28.600350   \n",
       "\n",
       "   Longitude                                          Known_For  \n",
       "0  77.240472                                                NaN  \n",
       "1  77.242471  Pondicherry Fish Curry, Coconut Rabdi, Sabudan...  \n",
       "2  77.173661  Royal ambiance and Mughlai cuisine, also recei...  \n",
       "3  77.088532  Coconut Milk Dessert, Honey Caviar, Kaffir Lim...  \n",
       "4  77.227493  Irish Cream Tiramisu, Penne Vodka, Mississippi...  "
      ]
     },
     "execution_count": 22,
     "metadata": {},
     "output_type": "execute_result"
    }
   ],
   "source": [
    "data.head()"
   ]
  },
  {
   "cell_type": "code",
   "execution_count": 23,
   "id": "1fa4b81a-9258-499b-bf9b-257548cfdfba",
   "metadata": {},
   "outputs": [
    {
     "data": {
      "text/plain": [
       "Restaurant_Name          False\n",
       "Category                 False\n",
       "Pricing_for_2            False\n",
       "Locality                 False\n",
       "Dining_Rating            False\n",
       "Dining_Review_Count      False\n",
       "Delivery_Rating          False\n",
       "Delivery_Rating_Count    False\n",
       "Website                  False\n",
       "Address                  False\n",
       "Phone_No                 False\n",
       "Latitude                 False\n",
       "Longitude                False\n",
       "Known_For                 True\n",
       "dtype: bool"
      ]
     },
     "execution_count": 23,
     "metadata": {},
     "output_type": "execute_result"
    }
   ],
   "source": [
    "data.isnull().any()"
   ]
  },
  {
   "cell_type": "code",
   "execution_count": 24,
   "id": "d1cca45f-ed01-4259-b2de-32bd31c5ef29",
   "metadata": {},
   "outputs": [
    {
     "data": {
      "text/html": [
       "<div>\n",
       "<style scoped>\n",
       "    .dataframe tbody tr th:only-of-type {\n",
       "        vertical-align: middle;\n",
       "    }\n",
       "\n",
       "    .dataframe tbody tr th {\n",
       "        vertical-align: top;\n",
       "    }\n",
       "\n",
       "    .dataframe thead th {\n",
       "        text-align: right;\n",
       "    }\n",
       "</style>\n",
       "<table border=\"1\" class=\"dataframe\">\n",
       "  <thead>\n",
       "    <tr style=\"text-align: right;\">\n",
       "      <th></th>\n",
       "      <th>Restaurant_Name</th>\n",
       "      <th>Category</th>\n",
       "      <th>Pricing_for_2</th>\n",
       "      <th>Locality</th>\n",
       "      <th>Dining_Rating</th>\n",
       "      <th>Dining_Review_Count</th>\n",
       "      <th>Delivery_Rating</th>\n",
       "      <th>Delivery_Rating_Count</th>\n",
       "      <th>Website</th>\n",
       "      <th>Address</th>\n",
       "      <th>Phone_No</th>\n",
       "      <th>Latitude</th>\n",
       "      <th>Longitude</th>\n",
       "      <th>Known_For</th>\n",
       "    </tr>\n",
       "  </thead>\n",
       "  <tbody>\n",
       "    <tr>\n",
       "      <th>0</th>\n",
       "      <td>False</td>\n",
       "      <td>False</td>\n",
       "      <td>False</td>\n",
       "      <td>False</td>\n",
       "      <td>False</td>\n",
       "      <td>False</td>\n",
       "      <td>False</td>\n",
       "      <td>False</td>\n",
       "      <td>False</td>\n",
       "      <td>False</td>\n",
       "      <td>False</td>\n",
       "      <td>False</td>\n",
       "      <td>False</td>\n",
       "      <td>True</td>\n",
       "    </tr>\n",
       "    <tr>\n",
       "      <th>1</th>\n",
       "      <td>False</td>\n",
       "      <td>False</td>\n",
       "      <td>False</td>\n",
       "      <td>False</td>\n",
       "      <td>False</td>\n",
       "      <td>False</td>\n",
       "      <td>False</td>\n",
       "      <td>False</td>\n",
       "      <td>False</td>\n",
       "      <td>False</td>\n",
       "      <td>False</td>\n",
       "      <td>False</td>\n",
       "      <td>False</td>\n",
       "      <td>False</td>\n",
       "    </tr>\n",
       "    <tr>\n",
       "      <th>2</th>\n",
       "      <td>False</td>\n",
       "      <td>False</td>\n",
       "      <td>False</td>\n",
       "      <td>False</td>\n",
       "      <td>False</td>\n",
       "      <td>False</td>\n",
       "      <td>False</td>\n",
       "      <td>False</td>\n",
       "      <td>False</td>\n",
       "      <td>False</td>\n",
       "      <td>False</td>\n",
       "      <td>False</td>\n",
       "      <td>False</td>\n",
       "      <td>False</td>\n",
       "    </tr>\n",
       "    <tr>\n",
       "      <th>3</th>\n",
       "      <td>False</td>\n",
       "      <td>False</td>\n",
       "      <td>False</td>\n",
       "      <td>False</td>\n",
       "      <td>False</td>\n",
       "      <td>False</td>\n",
       "      <td>False</td>\n",
       "      <td>False</td>\n",
       "      <td>False</td>\n",
       "      <td>False</td>\n",
       "      <td>False</td>\n",
       "      <td>False</td>\n",
       "      <td>False</td>\n",
       "      <td>False</td>\n",
       "    </tr>\n",
       "    <tr>\n",
       "      <th>4</th>\n",
       "      <td>False</td>\n",
       "      <td>False</td>\n",
       "      <td>False</td>\n",
       "      <td>False</td>\n",
       "      <td>False</td>\n",
       "      <td>False</td>\n",
       "      <td>False</td>\n",
       "      <td>False</td>\n",
       "      <td>False</td>\n",
       "      <td>False</td>\n",
       "      <td>False</td>\n",
       "      <td>False</td>\n",
       "      <td>False</td>\n",
       "      <td>False</td>\n",
       "    </tr>\n",
       "    <tr>\n",
       "      <th>...</th>\n",
       "      <td>...</td>\n",
       "      <td>...</td>\n",
       "      <td>...</td>\n",
       "      <td>...</td>\n",
       "      <td>...</td>\n",
       "      <td>...</td>\n",
       "      <td>...</td>\n",
       "      <td>...</td>\n",
       "      <td>...</td>\n",
       "      <td>...</td>\n",
       "      <td>...</td>\n",
       "      <td>...</td>\n",
       "      <td>...</td>\n",
       "      <td>...</td>\n",
       "    </tr>\n",
       "    <tr>\n",
       "      <th>1960</th>\n",
       "      <td>False</td>\n",
       "      <td>False</td>\n",
       "      <td>False</td>\n",
       "      <td>False</td>\n",
       "      <td>False</td>\n",
       "      <td>False</td>\n",
       "      <td>False</td>\n",
       "      <td>False</td>\n",
       "      <td>False</td>\n",
       "      <td>False</td>\n",
       "      <td>False</td>\n",
       "      <td>False</td>\n",
       "      <td>False</td>\n",
       "      <td>False</td>\n",
       "    </tr>\n",
       "    <tr>\n",
       "      <th>1961</th>\n",
       "      <td>False</td>\n",
       "      <td>False</td>\n",
       "      <td>False</td>\n",
       "      <td>False</td>\n",
       "      <td>False</td>\n",
       "      <td>False</td>\n",
       "      <td>False</td>\n",
       "      <td>False</td>\n",
       "      <td>False</td>\n",
       "      <td>False</td>\n",
       "      <td>False</td>\n",
       "      <td>False</td>\n",
       "      <td>False</td>\n",
       "      <td>False</td>\n",
       "    </tr>\n",
       "    <tr>\n",
       "      <th>1962</th>\n",
       "      <td>False</td>\n",
       "      <td>False</td>\n",
       "      <td>False</td>\n",
       "      <td>False</td>\n",
       "      <td>False</td>\n",
       "      <td>False</td>\n",
       "      <td>False</td>\n",
       "      <td>False</td>\n",
       "      <td>False</td>\n",
       "      <td>False</td>\n",
       "      <td>False</td>\n",
       "      <td>False</td>\n",
       "      <td>False</td>\n",
       "      <td>False</td>\n",
       "    </tr>\n",
       "    <tr>\n",
       "      <th>1963</th>\n",
       "      <td>False</td>\n",
       "      <td>False</td>\n",
       "      <td>False</td>\n",
       "      <td>False</td>\n",
       "      <td>False</td>\n",
       "      <td>False</td>\n",
       "      <td>False</td>\n",
       "      <td>False</td>\n",
       "      <td>False</td>\n",
       "      <td>False</td>\n",
       "      <td>False</td>\n",
       "      <td>False</td>\n",
       "      <td>False</td>\n",
       "      <td>False</td>\n",
       "    </tr>\n",
       "    <tr>\n",
       "      <th>1964</th>\n",
       "      <td>False</td>\n",
       "      <td>False</td>\n",
       "      <td>False</td>\n",
       "      <td>False</td>\n",
       "      <td>False</td>\n",
       "      <td>False</td>\n",
       "      <td>False</td>\n",
       "      <td>False</td>\n",
       "      <td>False</td>\n",
       "      <td>False</td>\n",
       "      <td>False</td>\n",
       "      <td>False</td>\n",
       "      <td>False</td>\n",
       "      <td>False</td>\n",
       "    </tr>\n",
       "  </tbody>\n",
       "</table>\n",
       "<p>1965 rows × 14 columns</p>\n",
       "</div>"
      ],
      "text/plain": [
       "      Restaurant_Name  Category  Pricing_for_2  Locality  Dining_Rating  \\\n",
       "0               False     False          False     False          False   \n",
       "1               False     False          False     False          False   \n",
       "2               False     False          False     False          False   \n",
       "3               False     False          False     False          False   \n",
       "4               False     False          False     False          False   \n",
       "...               ...       ...            ...       ...            ...   \n",
       "1960            False     False          False     False          False   \n",
       "1961            False     False          False     False          False   \n",
       "1962            False     False          False     False          False   \n",
       "1963            False     False          False     False          False   \n",
       "1964            False     False          False     False          False   \n",
       "\n",
       "      Dining_Review_Count  Delivery_Rating  Delivery_Rating_Count  Website  \\\n",
       "0                   False            False                  False    False   \n",
       "1                   False            False                  False    False   \n",
       "2                   False            False                  False    False   \n",
       "3                   False            False                  False    False   \n",
       "4                   False            False                  False    False   \n",
       "...                   ...              ...                    ...      ...   \n",
       "1960                False            False                  False    False   \n",
       "1961                False            False                  False    False   \n",
       "1962                False            False                  False    False   \n",
       "1963                False            False                  False    False   \n",
       "1964                False            False                  False    False   \n",
       "\n",
       "      Address  Phone_No  Latitude  Longitude  Known_For  \n",
       "0       False     False     False      False       True  \n",
       "1       False     False     False      False      False  \n",
       "2       False     False     False      False      False  \n",
       "3       False     False     False      False      False  \n",
       "4       False     False     False      False      False  \n",
       "...       ...       ...       ...        ...        ...  \n",
       "1960    False     False     False      False      False  \n",
       "1961    False     False     False      False      False  \n",
       "1962    False     False     False      False      False  \n",
       "1963    False     False     False      False      False  \n",
       "1964    False     False     False      False      False  \n",
       "\n",
       "[1965 rows x 14 columns]"
      ]
     },
     "execution_count": 24,
     "metadata": {},
     "output_type": "execute_result"
    }
   ],
   "source": [
    "data.isna()"
   ]
  },
  {
   "cell_type": "code",
   "execution_count": 25,
   "id": "3e4343bf-77eb-49c3-9092-e2017f2411a1",
   "metadata": {},
   "outputs": [
    {
     "data": {
      "text/plain": [
       "np.int64(405)"
      ]
     },
     "execution_count": 25,
     "metadata": {},
     "output_type": "execute_result"
    }
   ],
   "source": [
    "data['Known_For'].isnull().sum()"
   ]
  },
  {
   "cell_type": "code",
   "execution_count": 26,
   "id": "1fea0e62-64a3-43d3-8d9c-7e994e5c7118",
   "metadata": {},
   "outputs": [
    {
     "name": "stdout",
     "output_type": "stream",
     "text": [
      "<class 'pandas.core.frame.DataFrame'>\n"
     ]
    }
   ],
   "source": [
    "print(type(data))"
   ]
  },
  {
   "cell_type": "code",
   "execution_count": 27,
   "id": "06b8e896-7ded-4393-967e-2e3279d03e3b",
   "metadata": {},
   "outputs": [],
   "source": [
    "data= data.dropna()"
   ]
  },
  {
   "cell_type": "code",
   "execution_count": 28,
   "id": "e66c5148-df9e-462f-8805-55ffd8a8ea7e",
   "metadata": {},
   "outputs": [],
   "source": [
    "data= data.drop(columns= ['Locality', 'Longitude', 'Latitude', 'Address', 'Phone_No', 'Website'])"
   ]
  },
  {
   "cell_type": "code",
   "execution_count": 29,
   "id": "bd7514d7-efd2-4a54-b7c9-8413234b28d5",
   "metadata": {},
   "outputs": [],
   "source": [
    "data= data.dropna()"
   ]
  },
  {
   "cell_type": "code",
   "execution_count": 30,
   "id": "0df31741-0a76-4f25-a069-2f773c75a1a3",
   "metadata": {},
   "outputs": [
    {
     "data": {
      "text/plain": [
       "Restaurant_Name          False\n",
       "Category                 False\n",
       "Pricing_for_2            False\n",
       "Dining_Rating            False\n",
       "Dining_Review_Count      False\n",
       "Delivery_Rating          False\n",
       "Delivery_Rating_Count    False\n",
       "Known_For                False\n",
       "dtype: bool"
      ]
     },
     "execution_count": 30,
     "metadata": {},
     "output_type": "execute_result"
    }
   ],
   "source": [
    "data.isnull().any()"
   ]
  },
  {
   "cell_type": "code",
   "execution_count": 31,
   "id": "32017bab-e744-4f42-aae7-83b0bdbd0a64",
   "metadata": {},
   "outputs": [
    {
     "data": {
      "text/plain": [
       "(1560, 8)"
      ]
     },
     "execution_count": 31,
     "metadata": {},
     "output_type": "execute_result"
    }
   ],
   "source": [
    "data.shape"
   ]
  },
  {
   "cell_type": "code",
   "execution_count": 32,
   "id": "c0bf8db3-fa57-4ad4-ba3b-e247b7b2f06f",
   "metadata": {},
   "outputs": [
    {
     "data": {
      "text/plain": [
       "Index(['Restaurant_Name', 'Category', 'Pricing_for_2', 'Dining_Rating',\n",
       "       'Dining_Review_Count', 'Delivery_Rating', 'Delivery_Rating_Count',\n",
       "       'Known_For'],\n",
       "      dtype='object')"
      ]
     },
     "execution_count": 32,
     "metadata": {},
     "output_type": "execute_result"
    }
   ],
   "source": [
    "data.columns"
   ]
  },
  {
   "cell_type": "code",
   "execution_count": 33,
   "id": "7d80efa3-c1a3-4c71-863e-dd7aa9cec791",
   "metadata": {},
   "outputs": [],
   "source": [
    "data.to_csv('cleaned_dataset_2.csv', index= False)"
   ]
  },
  {
   "cell_type": "code",
   "execution_count": 34,
   "id": "07d76d5d-61a4-43f9-89da-6ae862ff7884",
   "metadata": {},
   "outputs": [
    {
     "name": "stderr",
     "output_type": "stream",
     "text": [
      "C:\\Users\\Dell\\AppData\\Local\\Temp\\ipykernel_10132\\34515647.py:1: FutureWarning: A value is trying to be set on a copy of a DataFrame or Series through chained assignment using an inplace method.\n",
      "The behavior will change in pandas 3.0. This inplace method will never work because the intermediate object on which we are setting values always behaves as a copy.\n",
      "\n",
      "For example, when doing 'df[col].method(value, inplace=True)', try using 'df.method({col: value}, inplace=True)' or df[col] = df[col].method(value) instead, to perform the operation inplace on the original object.\n",
      "\n",
      "\n",
      "  data['Delivery_Rating'].replace('3.964299424', '4', inplace= True)\n"
     ]
    }
   ],
   "source": [
    "data['Delivery_Rating'].replace('3.964299424', '4', inplace= True)"
   ]
  },
  {
   "cell_type": "code",
   "execution_count": 35,
   "id": "4414aa00-8996-4fb6-b34a-5bc8b6d36d4e",
   "metadata": {},
   "outputs": [],
   "source": [
    "data.to_csv('cleaned_data.csv', index= False)"
   ]
  },
  {
   "cell_type": "code",
   "execution_count": 36,
   "id": "737bc4de-a635-46e3-ac49-732f9eea77ec",
   "metadata": {},
   "outputs": [
    {
     "data": {
      "text/html": [
       "<div>\n",
       "<style scoped>\n",
       "    .dataframe tbody tr th:only-of-type {\n",
       "        vertical-align: middle;\n",
       "    }\n",
       "\n",
       "    .dataframe tbody tr th {\n",
       "        vertical-align: top;\n",
       "    }\n",
       "\n",
       "    .dataframe thead th {\n",
       "        text-align: right;\n",
       "    }\n",
       "</style>\n",
       "<table border=\"1\" class=\"dataframe\">\n",
       "  <thead>\n",
       "    <tr style=\"text-align: right;\">\n",
       "      <th></th>\n",
       "      <th>Restaurant_Name</th>\n",
       "      <th>Category</th>\n",
       "      <th>Pricing_for_2</th>\n",
       "      <th>Dining_Rating</th>\n",
       "      <th>Dining_Review_Count</th>\n",
       "      <th>Delivery_Rating</th>\n",
       "      <th>Delivery_Rating_Count</th>\n",
       "      <th>Known_For</th>\n",
       "    </tr>\n",
       "  </thead>\n",
       "  <tbody>\n",
       "    <tr>\n",
       "      <th>1</th>\n",
       "      <td>Cafe Lota</td>\n",
       "      <td>Cafe, South Indian, North Indian, Beverages</td>\n",
       "      <td>1200</td>\n",
       "      <td>4.9</td>\n",
       "      <td>3748</td>\n",
       "      <td>3.900000</td>\n",
       "      <td>37</td>\n",
       "      <td>Pondicherry Fish Curry, Coconut Rabdi, Sabudan...</td>\n",
       "    </tr>\n",
       "    <tr>\n",
       "      <th>2</th>\n",
       "      <td>Dum-Pukht - ITC Maurya</td>\n",
       "      <td>Mughlai, North Indian, Desserts</td>\n",
       "      <td>5000</td>\n",
       "      <td>4.9</td>\n",
       "      <td>1371</td>\n",
       "      <td>3.964299</td>\n",
       "      <td>0</td>\n",
       "      <td>Royal ambiance and Mughlai cuisine, also recei...</td>\n",
       "    </tr>\n",
       "    <tr>\n",
       "      <th>3</th>\n",
       "      <td>Burma Burma</td>\n",
       "      <td>Asian, Burmese, Bubble Tea, Desserts, Salad</td>\n",
       "      <td>1600</td>\n",
       "      <td>4.9</td>\n",
       "      <td>2636</td>\n",
       "      <td>4.400000</td>\n",
       "      <td>1238</td>\n",
       "      <td>Coconut Milk Dessert, Honey Caviar, Kaffir Lim...</td>\n",
       "    </tr>\n",
       "    <tr>\n",
       "      <th>4</th>\n",
       "      <td>The Big Chill</td>\n",
       "      <td>Continental, American, Italian</td>\n",
       "      <td>1500</td>\n",
       "      <td>4.9</td>\n",
       "      <td>6487</td>\n",
       "      <td>3.964299</td>\n",
       "      <td>0</td>\n",
       "      <td>Irish Cream Tiramisu, Penne Vodka, Mississippi...</td>\n",
       "    </tr>\n",
       "    <tr>\n",
       "      <th>5</th>\n",
       "      <td>Carnatic Cafe</td>\n",
       "      <td>South Indian</td>\n",
       "      <td>600</td>\n",
       "      <td>4.9</td>\n",
       "      <td>2518</td>\n",
       "      <td>4.200000</td>\n",
       "      <td>931</td>\n",
       "      <td>Malleshwari Dosa, Benne Khali Dosa, Obbattu, R...</td>\n",
       "    </tr>\n",
       "    <tr>\n",
       "      <th>6</th>\n",
       "      <td>Cocktails &amp; Dreams, Speakeasy</td>\n",
       "      <td>Nepalese, Tibetan, Beverages</td>\n",
       "      <td>2500</td>\n",
       "      <td>4.9</td>\n",
       "      <td>1299</td>\n",
       "      <td>3.800000</td>\n",
       "      <td>25</td>\n",
       "      <td>Classic Martini, Coktails, Bloody Mary, Calama...</td>\n",
       "    </tr>\n",
       "    <tr>\n",
       "      <th>7</th>\n",
       "      <td>Natural Ice Cream</td>\n",
       "      <td>Ice Cream, Desserts</td>\n",
       "      <td>400</td>\n",
       "      <td>4.9</td>\n",
       "      <td>4014</td>\n",
       "      <td>4.500000</td>\n",
       "      <td>6969</td>\n",
       "      <td>Watermelon Ice Cream, Choco Bite, Chocobite, C...</td>\n",
       "    </tr>\n",
       "    <tr>\n",
       "      <th>8</th>\n",
       "      <td>Kuremal Mohan Lal Kulfi Wale</td>\n",
       "      <td>Ice Cream, Desserts</td>\n",
       "      <td>200</td>\n",
       "      <td>4.9</td>\n",
       "      <td>1120</td>\n",
       "      <td>3.964299</td>\n",
       "      <td>5</td>\n",
       "      <td>Orange Kulfi, Jamun Kulfi, Mixed Fruit, Fruit ...</td>\n",
       "    </tr>\n",
       "    <tr>\n",
       "      <th>9</th>\n",
       "      <td>Juggernaut</td>\n",
       "      <td>South Indian, North Indian, Fast Food, Dessert...</td>\n",
       "      <td>700</td>\n",
       "      <td>4.8</td>\n",
       "      <td>2480</td>\n",
       "      <td>4.200000</td>\n",
       "      <td>573</td>\n",
       "      <td>Podi Ghee Idli, Chettinad Idli, Ganne Ka Ras, ...</td>\n",
       "    </tr>\n",
       "    <tr>\n",
       "      <th>10</th>\n",
       "      <td>Comorin</td>\n",
       "      <td>North Indian, Desserts, Beverages</td>\n",
       "      <td>2500</td>\n",
       "      <td>4.8</td>\n",
       "      <td>803</td>\n",
       "      <td>4.400000</td>\n",
       "      <td>217</td>\n",
       "      <td>Champaran Style Mutton, Gunpowder Idli, Coktai...</td>\n",
       "    </tr>\n",
       "  </tbody>\n",
       "</table>\n",
       "</div>"
      ],
      "text/plain": [
       "                  Restaurant_Name  \\\n",
       "1                       Cafe Lota   \n",
       "2          Dum-Pukht - ITC Maurya   \n",
       "3                     Burma Burma   \n",
       "4                   The Big Chill   \n",
       "5                   Carnatic Cafe   \n",
       "6   Cocktails & Dreams, Speakeasy   \n",
       "7               Natural Ice Cream   \n",
       "8    Kuremal Mohan Lal Kulfi Wale   \n",
       "9                      Juggernaut   \n",
       "10                        Comorin   \n",
       "\n",
       "                                             Category  Pricing_for_2  \\\n",
       "1         Cafe, South Indian, North Indian, Beverages           1200   \n",
       "2                     Mughlai, North Indian, Desserts           5000   \n",
       "3         Asian, Burmese, Bubble Tea, Desserts, Salad           1600   \n",
       "4                      Continental, American, Italian           1500   \n",
       "5                                        South Indian            600   \n",
       "6                        Nepalese, Tibetan, Beverages           2500   \n",
       "7                                 Ice Cream, Desserts            400   \n",
       "8                                 Ice Cream, Desserts            200   \n",
       "9   South Indian, North Indian, Fast Food, Dessert...            700   \n",
       "10                  North Indian, Desserts, Beverages           2500   \n",
       "\n",
       "    Dining_Rating  Dining_Review_Count  Delivery_Rating  \\\n",
       "1             4.9                 3748         3.900000   \n",
       "2             4.9                 1371         3.964299   \n",
       "3             4.9                 2636         4.400000   \n",
       "4             4.9                 6487         3.964299   \n",
       "5             4.9                 2518         4.200000   \n",
       "6             4.9                 1299         3.800000   \n",
       "7             4.9                 4014         4.500000   \n",
       "8             4.9                 1120         3.964299   \n",
       "9             4.8                 2480         4.200000   \n",
       "10            4.8                  803         4.400000   \n",
       "\n",
       "    Delivery_Rating_Count                                          Known_For  \n",
       "1                      37  Pondicherry Fish Curry, Coconut Rabdi, Sabudan...  \n",
       "2                       0  Royal ambiance and Mughlai cuisine, also recei...  \n",
       "3                    1238  Coconut Milk Dessert, Honey Caviar, Kaffir Lim...  \n",
       "4                       0  Irish Cream Tiramisu, Penne Vodka, Mississippi...  \n",
       "5                     931  Malleshwari Dosa, Benne Khali Dosa, Obbattu, R...  \n",
       "6                      25  Classic Martini, Coktails, Bloody Mary, Calama...  \n",
       "7                    6969  Watermelon Ice Cream, Choco Bite, Chocobite, C...  \n",
       "8                       5  Orange Kulfi, Jamun Kulfi, Mixed Fruit, Fruit ...  \n",
       "9                     573  Podi Ghee Idli, Chettinad Idli, Ganne Ka Ras, ...  \n",
       "10                    217  Champaran Style Mutton, Gunpowder Idli, Coktai...  "
      ]
     },
     "execution_count": 36,
     "metadata": {},
     "output_type": "execute_result"
    }
   ],
   "source": [
    "data.head(10)"
   ]
  },
  {
   "cell_type": "code",
   "execution_count": 37,
   "id": "21b6d3db-5a1e-4a40-8815-1e31e7f2ec27",
   "metadata": {},
   "outputs": [
    {
     "name": "stderr",
     "output_type": "stream",
     "text": [
      "C:\\Users\\Dell\\AppData\\Local\\Temp\\ipykernel_10132\\509840344.py:1: FutureWarning: A value is trying to be set on a copy of a DataFrame or Series through chained assignment using an inplace method.\n",
      "The behavior will change in pandas 3.0. This inplace method will never work because the intermediate object on which we are setting values always behaves as a copy.\n",
      "\n",
      "For example, when doing 'df[col].method(value, inplace=True)', try using 'df.method({col: value}, inplace=True)' or df[col] = df[col].method(value) instead, to perform the operation inplace on the original object.\n",
      "\n",
      "\n",
      "  data['Delivery_Rating'].replace(3.964299, 4, inplace= True)\n"
     ]
    }
   ],
   "source": [
    "data['Delivery_Rating'].replace(3.964299, 4, inplace= True)"
   ]
  },
  {
   "cell_type": "code",
   "execution_count": 38,
   "id": "15a14ae3-c097-4df4-88af-d2b6c7ca8be0",
   "metadata": {},
   "outputs": [
    {
     "data": {
      "text/html": [
       "<div>\n",
       "<style scoped>\n",
       "    .dataframe tbody tr th:only-of-type {\n",
       "        vertical-align: middle;\n",
       "    }\n",
       "\n",
       "    .dataframe tbody tr th {\n",
       "        vertical-align: top;\n",
       "    }\n",
       "\n",
       "    .dataframe thead th {\n",
       "        text-align: right;\n",
       "    }\n",
       "</style>\n",
       "<table border=\"1\" class=\"dataframe\">\n",
       "  <thead>\n",
       "    <tr style=\"text-align: right;\">\n",
       "      <th></th>\n",
       "      <th>Restaurant_Name</th>\n",
       "      <th>Category</th>\n",
       "      <th>Pricing_for_2</th>\n",
       "      <th>Dining_Rating</th>\n",
       "      <th>Dining_Review_Count</th>\n",
       "      <th>Delivery_Rating</th>\n",
       "      <th>Delivery_Rating_Count</th>\n",
       "      <th>Known_For</th>\n",
       "    </tr>\n",
       "  </thead>\n",
       "  <tbody>\n",
       "    <tr>\n",
       "      <th>1</th>\n",
       "      <td>Cafe Lota</td>\n",
       "      <td>Cafe, South Indian, North Indian, Beverages</td>\n",
       "      <td>1200</td>\n",
       "      <td>4.9</td>\n",
       "      <td>3748</td>\n",
       "      <td>3.900000</td>\n",
       "      <td>37</td>\n",
       "      <td>Pondicherry Fish Curry, Coconut Rabdi, Sabudan...</td>\n",
       "    </tr>\n",
       "    <tr>\n",
       "      <th>2</th>\n",
       "      <td>Dum-Pukht - ITC Maurya</td>\n",
       "      <td>Mughlai, North Indian, Desserts</td>\n",
       "      <td>5000</td>\n",
       "      <td>4.9</td>\n",
       "      <td>1371</td>\n",
       "      <td>3.964299</td>\n",
       "      <td>0</td>\n",
       "      <td>Royal ambiance and Mughlai cuisine, also recei...</td>\n",
       "    </tr>\n",
       "    <tr>\n",
       "      <th>3</th>\n",
       "      <td>Burma Burma</td>\n",
       "      <td>Asian, Burmese, Bubble Tea, Desserts, Salad</td>\n",
       "      <td>1600</td>\n",
       "      <td>4.9</td>\n",
       "      <td>2636</td>\n",
       "      <td>4.400000</td>\n",
       "      <td>1238</td>\n",
       "      <td>Coconut Milk Dessert, Honey Caviar, Kaffir Lim...</td>\n",
       "    </tr>\n",
       "    <tr>\n",
       "      <th>4</th>\n",
       "      <td>The Big Chill</td>\n",
       "      <td>Continental, American, Italian</td>\n",
       "      <td>1500</td>\n",
       "      <td>4.9</td>\n",
       "      <td>6487</td>\n",
       "      <td>3.964299</td>\n",
       "      <td>0</td>\n",
       "      <td>Irish Cream Tiramisu, Penne Vodka, Mississippi...</td>\n",
       "    </tr>\n",
       "    <tr>\n",
       "      <th>5</th>\n",
       "      <td>Carnatic Cafe</td>\n",
       "      <td>South Indian</td>\n",
       "      <td>600</td>\n",
       "      <td>4.9</td>\n",
       "      <td>2518</td>\n",
       "      <td>4.200000</td>\n",
       "      <td>931</td>\n",
       "      <td>Malleshwari Dosa, Benne Khali Dosa, Obbattu, R...</td>\n",
       "    </tr>\n",
       "  </tbody>\n",
       "</table>\n",
       "</div>"
      ],
      "text/plain": [
       "          Restaurant_Name                                     Category  \\\n",
       "1               Cafe Lota  Cafe, South Indian, North Indian, Beverages   \n",
       "2  Dum-Pukht - ITC Maurya              Mughlai, North Indian, Desserts   \n",
       "3             Burma Burma  Asian, Burmese, Bubble Tea, Desserts, Salad   \n",
       "4           The Big Chill               Continental, American, Italian   \n",
       "5           Carnatic Cafe                                 South Indian   \n",
       "\n",
       "   Pricing_for_2  Dining_Rating  Dining_Review_Count  Delivery_Rating  \\\n",
       "1           1200            4.9                 3748         3.900000   \n",
       "2           5000            4.9                 1371         3.964299   \n",
       "3           1600            4.9                 2636         4.400000   \n",
       "4           1500            4.9                 6487         3.964299   \n",
       "5            600            4.9                 2518         4.200000   \n",
       "\n",
       "   Delivery_Rating_Count                                          Known_For  \n",
       "1                     37  Pondicherry Fish Curry, Coconut Rabdi, Sabudan...  \n",
       "2                      0  Royal ambiance and Mughlai cuisine, also recei...  \n",
       "3                   1238  Coconut Milk Dessert, Honey Caviar, Kaffir Lim...  \n",
       "4                      0  Irish Cream Tiramisu, Penne Vodka, Mississippi...  \n",
       "5                    931  Malleshwari Dosa, Benne Khali Dosa, Obbattu, R...  "
      ]
     },
     "execution_count": 38,
     "metadata": {},
     "output_type": "execute_result"
    }
   ],
   "source": [
    "data.head()"
   ]
  },
  {
   "cell_type": "code",
   "execution_count": 39,
   "id": "7e08a588-3b8b-47c7-9a97-5e15869c1927",
   "metadata": {},
   "outputs": [
    {
     "data": {
      "text/plain": [
       "Restaurant_Name           object\n",
       "Category                  object\n",
       "Pricing_for_2              int64\n",
       "Dining_Rating            float64\n",
       "Dining_Review_Count        int64\n",
       "Delivery_Rating          float64\n",
       "Delivery_Rating_Count      int64\n",
       "Known_For                 object\n",
       "dtype: object"
      ]
     },
     "execution_count": 39,
     "metadata": {},
     "output_type": "execute_result"
    }
   ],
   "source": [
    "data.dtypes"
   ]
  },
  {
   "cell_type": "code",
   "execution_count": 40,
   "id": "fd1d6d7e-dbdd-4fb0-9f01-a20fac7ac90c",
   "metadata": {},
   "outputs": [
    {
     "data": {
      "text/plain": [
       "dtype('float64')"
      ]
     },
     "execution_count": 40,
     "metadata": {},
     "output_type": "execute_result"
    }
   ],
   "source": [
    "data['Delivery_Rating'].dtype"
   ]
  },
  {
   "cell_type": "code",
   "execution_count": 41,
   "id": "d83d7445-9304-4db7-b7fd-f1a6e588b73e",
   "metadata": {},
   "outputs": [
    {
     "data": {
      "text/plain": [
       "array([3.9       , 3.96429942, 4.4       , 4.2       , 3.8       ,\n",
       "       4.5       , 4.1       , 4.3       , 3.2       , 3.7       ,\n",
       "       3.4       , 3.5       , 4.        , 3.6       , 3.3       ,\n",
       "       2.9       , 3.1       , 3.        ])"
      ]
     },
     "execution_count": 41,
     "metadata": {},
     "output_type": "execute_result"
    }
   ],
   "source": [
    "data['Delivery_Rating'].unique()"
   ]
  },
  {
   "cell_type": "code",
   "execution_count": 42,
   "id": "6ae7b5e4-7959-4e98-98f9-9c7962c5a5b3",
   "metadata": {},
   "outputs": [
    {
     "name": "stderr",
     "output_type": "stream",
     "text": [
      "C:\\Users\\Dell\\AppData\\Local\\Temp\\ipykernel_10132\\1299653508.py:1: FutureWarning: A value is trying to be set on a copy of a DataFrame or Series through chained assignment using an inplace method.\n",
      "The behavior will change in pandas 3.0. This inplace method will never work because the intermediate object on which we are setting values always behaves as a copy.\n",
      "\n",
      "For example, when doing 'df[col].method(value, inplace=True)', try using 'df.method({col: value}, inplace=True)' or df[col] = df[col].method(value) instead, to perform the operation inplace on the original object.\n",
      "\n",
      "\n",
      "  data['Delivery_Rating'].replace(3.96429942, 4, inplace= True)\n"
     ]
    }
   ],
   "source": [
    "data['Delivery_Rating'].replace(3.96429942, 4, inplace= True) "
   ]
  },
  {
   "cell_type": "code",
   "execution_count": 43,
   "id": "afb799e2-16c9-4a8d-a668-8c2a2f80d4a0",
   "metadata": {},
   "outputs": [
    {
     "data": {
      "text/html": [
       "<div>\n",
       "<style scoped>\n",
       "    .dataframe tbody tr th:only-of-type {\n",
       "        vertical-align: middle;\n",
       "    }\n",
       "\n",
       "    .dataframe tbody tr th {\n",
       "        vertical-align: top;\n",
       "    }\n",
       "\n",
       "    .dataframe thead th {\n",
       "        text-align: right;\n",
       "    }\n",
       "</style>\n",
       "<table border=\"1\" class=\"dataframe\">\n",
       "  <thead>\n",
       "    <tr style=\"text-align: right;\">\n",
       "      <th></th>\n",
       "      <th>Restaurant_Name</th>\n",
       "      <th>Category</th>\n",
       "      <th>Pricing_for_2</th>\n",
       "      <th>Dining_Rating</th>\n",
       "      <th>Dining_Review_Count</th>\n",
       "      <th>Delivery_Rating</th>\n",
       "      <th>Delivery_Rating_Count</th>\n",
       "      <th>Known_For</th>\n",
       "    </tr>\n",
       "  </thead>\n",
       "  <tbody>\n",
       "    <tr>\n",
       "      <th>1</th>\n",
       "      <td>Cafe Lota</td>\n",
       "      <td>Cafe, South Indian, North Indian, Beverages</td>\n",
       "      <td>1200</td>\n",
       "      <td>4.9</td>\n",
       "      <td>3748</td>\n",
       "      <td>3.900000</td>\n",
       "      <td>37</td>\n",
       "      <td>Pondicherry Fish Curry, Coconut Rabdi, Sabudan...</td>\n",
       "    </tr>\n",
       "    <tr>\n",
       "      <th>2</th>\n",
       "      <td>Dum-Pukht - ITC Maurya</td>\n",
       "      <td>Mughlai, North Indian, Desserts</td>\n",
       "      <td>5000</td>\n",
       "      <td>4.9</td>\n",
       "      <td>1371</td>\n",
       "      <td>3.964299</td>\n",
       "      <td>0</td>\n",
       "      <td>Royal ambiance and Mughlai cuisine, also recei...</td>\n",
       "    </tr>\n",
       "    <tr>\n",
       "      <th>3</th>\n",
       "      <td>Burma Burma</td>\n",
       "      <td>Asian, Burmese, Bubble Tea, Desserts, Salad</td>\n",
       "      <td>1600</td>\n",
       "      <td>4.9</td>\n",
       "      <td>2636</td>\n",
       "      <td>4.400000</td>\n",
       "      <td>1238</td>\n",
       "      <td>Coconut Milk Dessert, Honey Caviar, Kaffir Lim...</td>\n",
       "    </tr>\n",
       "    <tr>\n",
       "      <th>4</th>\n",
       "      <td>The Big Chill</td>\n",
       "      <td>Continental, American, Italian</td>\n",
       "      <td>1500</td>\n",
       "      <td>4.9</td>\n",
       "      <td>6487</td>\n",
       "      <td>3.964299</td>\n",
       "      <td>0</td>\n",
       "      <td>Irish Cream Tiramisu, Penne Vodka, Mississippi...</td>\n",
       "    </tr>\n",
       "    <tr>\n",
       "      <th>5</th>\n",
       "      <td>Carnatic Cafe</td>\n",
       "      <td>South Indian</td>\n",
       "      <td>600</td>\n",
       "      <td>4.9</td>\n",
       "      <td>2518</td>\n",
       "      <td>4.200000</td>\n",
       "      <td>931</td>\n",
       "      <td>Malleshwari Dosa, Benne Khali Dosa, Obbattu, R...</td>\n",
       "    </tr>\n",
       "  </tbody>\n",
       "</table>\n",
       "</div>"
      ],
      "text/plain": [
       "          Restaurant_Name                                     Category  \\\n",
       "1               Cafe Lota  Cafe, South Indian, North Indian, Beverages   \n",
       "2  Dum-Pukht - ITC Maurya              Mughlai, North Indian, Desserts   \n",
       "3             Burma Burma  Asian, Burmese, Bubble Tea, Desserts, Salad   \n",
       "4           The Big Chill               Continental, American, Italian   \n",
       "5           Carnatic Cafe                                 South Indian   \n",
       "\n",
       "   Pricing_for_2  Dining_Rating  Dining_Review_Count  Delivery_Rating  \\\n",
       "1           1200            4.9                 3748         3.900000   \n",
       "2           5000            4.9                 1371         3.964299   \n",
       "3           1600            4.9                 2636         4.400000   \n",
       "4           1500            4.9                 6487         3.964299   \n",
       "5            600            4.9                 2518         4.200000   \n",
       "\n",
       "   Delivery_Rating_Count                                          Known_For  \n",
       "1                     37  Pondicherry Fish Curry, Coconut Rabdi, Sabudan...  \n",
       "2                      0  Royal ambiance and Mughlai cuisine, also recei...  \n",
       "3                   1238  Coconut Milk Dessert, Honey Caviar, Kaffir Lim...  \n",
       "4                      0  Irish Cream Tiramisu, Penne Vodka, Mississippi...  \n",
       "5                    931  Malleshwari Dosa, Benne Khali Dosa, Obbattu, R...  "
      ]
     },
     "execution_count": 43,
     "metadata": {},
     "output_type": "execute_result"
    }
   ],
   "source": [
    "data.head()"
   ]
  },
  {
   "cell_type": "code",
   "execution_count": 44,
   "id": "fa28ff8c-cffa-4c1a-8c37-94c6176b55d6",
   "metadata": {},
   "outputs": [
    {
     "name": "stderr",
     "output_type": "stream",
     "text": [
      "C:\\Users\\Dell\\AppData\\Local\\Temp\\ipykernel_10132\\3147817399.py:1: FutureWarning: A value is trying to be set on a copy of a DataFrame or Series through chained assignment using an inplace method.\n",
      "The behavior will change in pandas 3.0. This inplace method will never work because the intermediate object on which we are setting values always behaves as a copy.\n",
      "\n",
      "For example, when doing 'df[col].method(value, inplace=True)', try using 'df.method({col: value}, inplace=True)' or df[col] = df[col].method(value) instead, to perform the operation inplace on the original object.\n",
      "\n",
      "\n",
      "  data['Delivery_Rating'].replace(3.96429942, 4, inplace=True)\n"
     ]
    }
   ],
   "source": [
    "data['Delivery_Rating'].replace(3.96429942, 4, inplace=True)\n"
   ]
  },
  {
   "cell_type": "code",
   "execution_count": 45,
   "id": "1fec069c-9145-4b6b-bbbd-87b60aae1314",
   "metadata": {},
   "outputs": [
    {
     "data": {
      "text/html": [
       "<div>\n",
       "<style scoped>\n",
       "    .dataframe tbody tr th:only-of-type {\n",
       "        vertical-align: middle;\n",
       "    }\n",
       "\n",
       "    .dataframe tbody tr th {\n",
       "        vertical-align: top;\n",
       "    }\n",
       "\n",
       "    .dataframe thead th {\n",
       "        text-align: right;\n",
       "    }\n",
       "</style>\n",
       "<table border=\"1\" class=\"dataframe\">\n",
       "  <thead>\n",
       "    <tr style=\"text-align: right;\">\n",
       "      <th></th>\n",
       "      <th>Restaurant_Name</th>\n",
       "      <th>Category</th>\n",
       "      <th>Pricing_for_2</th>\n",
       "      <th>Dining_Rating</th>\n",
       "      <th>Dining_Review_Count</th>\n",
       "      <th>Delivery_Rating</th>\n",
       "      <th>Delivery_Rating_Count</th>\n",
       "      <th>Known_For</th>\n",
       "    </tr>\n",
       "  </thead>\n",
       "  <tbody>\n",
       "    <tr>\n",
       "      <th>1</th>\n",
       "      <td>Cafe Lota</td>\n",
       "      <td>Cafe, South Indian, North Indian, Beverages</td>\n",
       "      <td>1200</td>\n",
       "      <td>4.9</td>\n",
       "      <td>3748</td>\n",
       "      <td>3.900000</td>\n",
       "      <td>37</td>\n",
       "      <td>Pondicherry Fish Curry, Coconut Rabdi, Sabudan...</td>\n",
       "    </tr>\n",
       "    <tr>\n",
       "      <th>2</th>\n",
       "      <td>Dum-Pukht - ITC Maurya</td>\n",
       "      <td>Mughlai, North Indian, Desserts</td>\n",
       "      <td>5000</td>\n",
       "      <td>4.9</td>\n",
       "      <td>1371</td>\n",
       "      <td>3.964299</td>\n",
       "      <td>0</td>\n",
       "      <td>Royal ambiance and Mughlai cuisine, also recei...</td>\n",
       "    </tr>\n",
       "    <tr>\n",
       "      <th>3</th>\n",
       "      <td>Burma Burma</td>\n",
       "      <td>Asian, Burmese, Bubble Tea, Desserts, Salad</td>\n",
       "      <td>1600</td>\n",
       "      <td>4.9</td>\n",
       "      <td>2636</td>\n",
       "      <td>4.400000</td>\n",
       "      <td>1238</td>\n",
       "      <td>Coconut Milk Dessert, Honey Caviar, Kaffir Lim...</td>\n",
       "    </tr>\n",
       "    <tr>\n",
       "      <th>4</th>\n",
       "      <td>The Big Chill</td>\n",
       "      <td>Continental, American, Italian</td>\n",
       "      <td>1500</td>\n",
       "      <td>4.9</td>\n",
       "      <td>6487</td>\n",
       "      <td>3.964299</td>\n",
       "      <td>0</td>\n",
       "      <td>Irish Cream Tiramisu, Penne Vodka, Mississippi...</td>\n",
       "    </tr>\n",
       "    <tr>\n",
       "      <th>5</th>\n",
       "      <td>Carnatic Cafe</td>\n",
       "      <td>South Indian</td>\n",
       "      <td>600</td>\n",
       "      <td>4.9</td>\n",
       "      <td>2518</td>\n",
       "      <td>4.200000</td>\n",
       "      <td>931</td>\n",
       "      <td>Malleshwari Dosa, Benne Khali Dosa, Obbattu, R...</td>\n",
       "    </tr>\n",
       "  </tbody>\n",
       "</table>\n",
       "</div>"
      ],
      "text/plain": [
       "          Restaurant_Name                                     Category  \\\n",
       "1               Cafe Lota  Cafe, South Indian, North Indian, Beverages   \n",
       "2  Dum-Pukht - ITC Maurya              Mughlai, North Indian, Desserts   \n",
       "3             Burma Burma  Asian, Burmese, Bubble Tea, Desserts, Salad   \n",
       "4           The Big Chill               Continental, American, Italian   \n",
       "5           Carnatic Cafe                                 South Indian   \n",
       "\n",
       "   Pricing_for_2  Dining_Rating  Dining_Review_Count  Delivery_Rating  \\\n",
       "1           1200            4.9                 3748         3.900000   \n",
       "2           5000            4.9                 1371         3.964299   \n",
       "3           1600            4.9                 2636         4.400000   \n",
       "4           1500            4.9                 6487         3.964299   \n",
       "5            600            4.9                 2518         4.200000   \n",
       "\n",
       "   Delivery_Rating_Count                                          Known_For  \n",
       "1                     37  Pondicherry Fish Curry, Coconut Rabdi, Sabudan...  \n",
       "2                      0  Royal ambiance and Mughlai cuisine, also recei...  \n",
       "3                   1238  Coconut Milk Dessert, Honey Caviar, Kaffir Lim...  \n",
       "4                      0  Irish Cream Tiramisu, Penne Vodka, Mississippi...  \n",
       "5                    931  Malleshwari Dosa, Benne Khali Dosa, Obbattu, R...  "
      ]
     },
     "execution_count": 45,
     "metadata": {},
     "output_type": "execute_result"
    }
   ],
   "source": [
    "data.head()"
   ]
  },
  {
   "cell_type": "code",
   "execution_count": 46,
   "id": "9ac3c333-184b-4ba2-a6ac-3869ca66c1be",
   "metadata": {},
   "outputs": [],
   "source": [
    "tolerance = 1e-6  # Adjust the tolerance as necessary\n",
    "\n",
    "data['Delivery_Rating'] = data['Delivery_Rating'].apply(\n",
    "    lambda x: 4 if abs(x - 3.96429942) < tolerance else x\n",
    ")\n"
   ]
  },
  {
   "cell_type": "code",
   "execution_count": 47,
   "id": "44701151-b1e8-45a1-8280-02972ae9e258",
   "metadata": {},
   "outputs": [
    {
     "data": {
      "text/html": [
       "<div>\n",
       "<style scoped>\n",
       "    .dataframe tbody tr th:only-of-type {\n",
       "        vertical-align: middle;\n",
       "    }\n",
       "\n",
       "    .dataframe tbody tr th {\n",
       "        vertical-align: top;\n",
       "    }\n",
       "\n",
       "    .dataframe thead th {\n",
       "        text-align: right;\n",
       "    }\n",
       "</style>\n",
       "<table border=\"1\" class=\"dataframe\">\n",
       "  <thead>\n",
       "    <tr style=\"text-align: right;\">\n",
       "      <th></th>\n",
       "      <th>Restaurant_Name</th>\n",
       "      <th>Category</th>\n",
       "      <th>Pricing_for_2</th>\n",
       "      <th>Dining_Rating</th>\n",
       "      <th>Dining_Review_Count</th>\n",
       "      <th>Delivery_Rating</th>\n",
       "      <th>Delivery_Rating_Count</th>\n",
       "      <th>Known_For</th>\n",
       "    </tr>\n",
       "  </thead>\n",
       "  <tbody>\n",
       "    <tr>\n",
       "      <th>1</th>\n",
       "      <td>Cafe Lota</td>\n",
       "      <td>Cafe, South Indian, North Indian, Beverages</td>\n",
       "      <td>1200</td>\n",
       "      <td>4.9</td>\n",
       "      <td>3748</td>\n",
       "      <td>3.9</td>\n",
       "      <td>37</td>\n",
       "      <td>Pondicherry Fish Curry, Coconut Rabdi, Sabudan...</td>\n",
       "    </tr>\n",
       "    <tr>\n",
       "      <th>2</th>\n",
       "      <td>Dum-Pukht - ITC Maurya</td>\n",
       "      <td>Mughlai, North Indian, Desserts</td>\n",
       "      <td>5000</td>\n",
       "      <td>4.9</td>\n",
       "      <td>1371</td>\n",
       "      <td>4.0</td>\n",
       "      <td>0</td>\n",
       "      <td>Royal ambiance and Mughlai cuisine, also recei...</td>\n",
       "    </tr>\n",
       "    <tr>\n",
       "      <th>3</th>\n",
       "      <td>Burma Burma</td>\n",
       "      <td>Asian, Burmese, Bubble Tea, Desserts, Salad</td>\n",
       "      <td>1600</td>\n",
       "      <td>4.9</td>\n",
       "      <td>2636</td>\n",
       "      <td>4.4</td>\n",
       "      <td>1238</td>\n",
       "      <td>Coconut Milk Dessert, Honey Caviar, Kaffir Lim...</td>\n",
       "    </tr>\n",
       "    <tr>\n",
       "      <th>4</th>\n",
       "      <td>The Big Chill</td>\n",
       "      <td>Continental, American, Italian</td>\n",
       "      <td>1500</td>\n",
       "      <td>4.9</td>\n",
       "      <td>6487</td>\n",
       "      <td>4.0</td>\n",
       "      <td>0</td>\n",
       "      <td>Irish Cream Tiramisu, Penne Vodka, Mississippi...</td>\n",
       "    </tr>\n",
       "    <tr>\n",
       "      <th>5</th>\n",
       "      <td>Carnatic Cafe</td>\n",
       "      <td>South Indian</td>\n",
       "      <td>600</td>\n",
       "      <td>4.9</td>\n",
       "      <td>2518</td>\n",
       "      <td>4.2</td>\n",
       "      <td>931</td>\n",
       "      <td>Malleshwari Dosa, Benne Khali Dosa, Obbattu, R...</td>\n",
       "    </tr>\n",
       "  </tbody>\n",
       "</table>\n",
       "</div>"
      ],
      "text/plain": [
       "          Restaurant_Name                                     Category  \\\n",
       "1               Cafe Lota  Cafe, South Indian, North Indian, Beverages   \n",
       "2  Dum-Pukht - ITC Maurya              Mughlai, North Indian, Desserts   \n",
       "3             Burma Burma  Asian, Burmese, Bubble Tea, Desserts, Salad   \n",
       "4           The Big Chill               Continental, American, Italian   \n",
       "5           Carnatic Cafe                                 South Indian   \n",
       "\n",
       "   Pricing_for_2  Dining_Rating  Dining_Review_Count  Delivery_Rating  \\\n",
       "1           1200            4.9                 3748              3.9   \n",
       "2           5000            4.9                 1371              4.0   \n",
       "3           1600            4.9                 2636              4.4   \n",
       "4           1500            4.9                 6487              4.0   \n",
       "5            600            4.9                 2518              4.2   \n",
       "\n",
       "   Delivery_Rating_Count                                          Known_For  \n",
       "1                     37  Pondicherry Fish Curry, Coconut Rabdi, Sabudan...  \n",
       "2                      0  Royal ambiance and Mughlai cuisine, also recei...  \n",
       "3                   1238  Coconut Milk Dessert, Honey Caviar, Kaffir Lim...  \n",
       "4                      0  Irish Cream Tiramisu, Penne Vodka, Mississippi...  \n",
       "5                    931  Malleshwari Dosa, Benne Khali Dosa, Obbattu, R...  "
      ]
     },
     "execution_count": 47,
     "metadata": {},
     "output_type": "execute_result"
    }
   ],
   "source": [
    "data.head()"
   ]
  },
  {
   "cell_type": "code",
   "execution_count": 48,
   "id": "eaadc0c3-0733-479d-9b65-ad0e203fd670",
   "metadata": {},
   "outputs": [
    {
     "data": {
      "text/plain": [
       "array([  37,    0, 1238, ...,  545, 2977, 5196])"
      ]
     },
     "execution_count": 48,
     "metadata": {},
     "output_type": "execute_result"
    }
   ],
   "source": [
    "data['Delivery_Rating_Count'].unique()"
   ]
  },
  {
   "cell_type": "code",
   "execution_count": 49,
   "id": "af3176af-a681-4197-9b80-f02565fc271f",
   "metadata": {},
   "outputs": [
    {
     "data": {
      "text/plain": [
       "np.float64(3305.0705128205127)"
      ]
     },
     "execution_count": 49,
     "metadata": {},
     "output_type": "execute_result"
    }
   ],
   "source": [
    "data['Delivery_Rating_Count'].mean()"
   ]
  },
  {
   "cell_type": "code",
   "execution_count": 50,
   "id": "c9c5c63b-5cea-45ec-aec1-8239bf023e8c",
   "metadata": {},
   "outputs": [
    {
     "data": {
      "text/plain": [
       "Restaurant_Name                  Category                                                            Pricing_for_2  Dining_Rating  Dining_Review_Count  Delivery_Rating  Delivery_Rating_Count  Known_For                                                                                                                                                                                               \n",
       "360° -  The Oberoi               Italian, Continental, North Indian, Mediterranean                   5000           4.1            249                  4.0              0                      Great for Dates, Worth the Price, Hospitality, Great Service, Decor, Ambiance                                                                                                                               1\n",
       "@ Links - Radisson Blu           Finger Food, Pizza, Beverages                                       4500           3.9            187                  4.0              0                      Chilli Paneer Dosa, Rava Butter Masala Dosa, Mysore Masala Dosa, Dal Makhni, Momos,Good for Large Groups, Comfortable Seating Area, Family Crowd, Quick Service, Reasonable Price, Hygiene                  1\n",
       "Aapka Bhojanalaya                North Indian, Chinese, Fast Food                                    250            4.0            314                  4.0              0                      Good Crowd, Great Recommendations, Low Price, Great Ambience, Good Taste, Packing                                                                                                                           1\n",
       "Amaranta - The Oberoi            Modern Indian, Seafood, North Indian                                7000           4.2            183                  4.0              0                      Worth the Price, Pool, Fantastic Place, Great Hospitality, Cutlery, Appetizers                                                                                                                              1\n",
       "Amrik Sukhdev                    North Indian, Chinese, South Indian, Street Food                    400            4.2            1994                 4.0              0                      Aloo Stuffed Paratha, Salted Lassi, Paneer Samosa, Imarti, Aloo Pyaz Parantha, Tandoori Paratha,Themed Decor, Good for Large Groups, Table Service, Good Quality Good Service, Loved it, Parking Space      1\n",
       "                                                                                                                                                                                                                                                                                                                                                                                                           ..\n",
       "Yellow Brick Road - Ambassador   Continental, North Indian, South Indian, Italian, Beverages         3500           4.3            1045                 4.0              0                      Get a complimentary night, earn up to 50% of spends as points at 250+ restaurants & much more. Know more                                                                                                    1\n",
       "Yellow Mirchi - Hotel City Park  North Indian                                                        2500           4.2            395                  4.0              0                      Classy Place, Live Music, Best Places, Great Ambience, Courteous Staff, Environment                                                                                                                         1\n",
       "Yes Minister - Pub & Kitchen     North Indian, Continental, Italian                                  1800           4.0            873                  4.0              0                      Vanilla Creme Brulee, Chocolate Fudge, Cocktails, Dessert, Salad, Starters,Gastronomical Experience, Themed Decor, Ample Seating Area, Ambience was Super Cool, View, Manager                               1\n",
       "Yi Jing                          Chinese, Asian                                                      2200           3.9            38                   4.0              0                      Rajma Rice, Masala Chaap, Chole Bhature, Lassi, Naan, Snacks,Family Crowd, Yummy Food, Tasty, Nice Place, Price, Quantity                                                                                   1\n",
       "Zufruta Cafe & Juice Lounge      Italian, Mexican, Lebanese, Fast Food, Burger, Sandwich, Beverages  500            4.1            223                  4.0              0                      Paneer Dhaniya Adraki, Fried Mushrooms, Schezwan Rice, Authentic Punjabi Food, Egg Fried Rice, Chicken 65,Tasty Stuff, Happy Hour, Good Offers, Gastronomical Experience, Themed Decor, Friendly Service    1\n",
       "Name: count, Length: 198, dtype: int64"
      ]
     },
     "execution_count": 50,
     "metadata": {},
     "output_type": "execute_result"
    }
   ],
   "source": [
    "data[data['Delivery_Rating_Count']==0].value_counts()"
   ]
  },
  {
   "cell_type": "code",
   "execution_count": 51,
   "id": "3bfea0c0-6cf3-4836-a92b-e709e481d165",
   "metadata": {},
   "outputs": [
    {
     "name": "stderr",
     "output_type": "stream",
     "text": [
      "C:\\Users\\Dell\\AppData\\Local\\Temp\\ipykernel_10132\\2752854418.py:1: FutureWarning: A value is trying to be set on a copy of a DataFrame or Series through chained assignment using an inplace method.\n",
      "The behavior will change in pandas 3.0. This inplace method will never work because the intermediate object on which we are setting values always behaves as a copy.\n",
      "\n",
      "For example, when doing 'df[col].method(value, inplace=True)', try using 'df.method({col: value}, inplace=True)' or df[col] = df[col].method(value) instead, to perform the operation inplace on the original object.\n",
      "\n",
      "\n",
      "  data['Delivery_Rating_Count'].replace(0, np.nan, inplace= True)\n"
     ]
    }
   ],
   "source": [
    "data['Delivery_Rating_Count'].replace(0, np.nan, inplace= True)"
   ]
  },
  {
   "cell_type": "code",
   "execution_count": 52,
   "id": "e0bf23b0-2bde-4bba-8950-b7293844e5df",
   "metadata": {},
   "outputs": [
    {
     "data": {
      "text/plain": [
       "1         37.0\n",
       "3       1238.0\n",
       "5        931.0\n",
       "6         25.0\n",
       "7       6969.0\n",
       "         ...  \n",
       "1960     545.0\n",
       "1961       1.0\n",
       "1962    2977.0\n",
       "1963     196.0\n",
       "1964    5196.0\n",
       "Name: Delivery_Rating_Count, Length: 1362, dtype: float64"
      ]
     },
     "execution_count": 52,
     "metadata": {},
     "output_type": "execute_result"
    }
   ],
   "source": [
    "data['Delivery_Rating_Count'].dropna()"
   ]
  },
  {
   "cell_type": "code",
   "execution_count": 53,
   "id": "1c4dfd99-99db-44fe-80da-6f9a8ddc348b",
   "metadata": {},
   "outputs": [
    {
     "data": {
      "text/html": [
       "<div>\n",
       "<style scoped>\n",
       "    .dataframe tbody tr th:only-of-type {\n",
       "        vertical-align: middle;\n",
       "    }\n",
       "\n",
       "    .dataframe tbody tr th {\n",
       "        vertical-align: top;\n",
       "    }\n",
       "\n",
       "    .dataframe thead th {\n",
       "        text-align: right;\n",
       "    }\n",
       "</style>\n",
       "<table border=\"1\" class=\"dataframe\">\n",
       "  <thead>\n",
       "    <tr style=\"text-align: right;\">\n",
       "      <th></th>\n",
       "      <th>Restaurant_Name</th>\n",
       "      <th>Category</th>\n",
       "      <th>Pricing_for_2</th>\n",
       "      <th>Dining_Rating</th>\n",
       "      <th>Dining_Review_Count</th>\n",
       "      <th>Delivery_Rating</th>\n",
       "      <th>Delivery_Rating_Count</th>\n",
       "      <th>Known_For</th>\n",
       "    </tr>\n",
       "  </thead>\n",
       "  <tbody>\n",
       "    <tr>\n",
       "      <th>1</th>\n",
       "      <td>Cafe Lota</td>\n",
       "      <td>Cafe, South Indian, North Indian, Beverages</td>\n",
       "      <td>1200</td>\n",
       "      <td>4.9</td>\n",
       "      <td>3748</td>\n",
       "      <td>3.9</td>\n",
       "      <td>37.0</td>\n",
       "      <td>Pondicherry Fish Curry, Coconut Rabdi, Sabudan...</td>\n",
       "    </tr>\n",
       "    <tr>\n",
       "      <th>3</th>\n",
       "      <td>Burma Burma</td>\n",
       "      <td>Asian, Burmese, Bubble Tea, Desserts, Salad</td>\n",
       "      <td>1600</td>\n",
       "      <td>4.9</td>\n",
       "      <td>2636</td>\n",
       "      <td>4.4</td>\n",
       "      <td>1238.0</td>\n",
       "      <td>Coconut Milk Dessert, Honey Caviar, Kaffir Lim...</td>\n",
       "    </tr>\n",
       "    <tr>\n",
       "      <th>5</th>\n",
       "      <td>Carnatic Cafe</td>\n",
       "      <td>South Indian</td>\n",
       "      <td>600</td>\n",
       "      <td>4.9</td>\n",
       "      <td>2518</td>\n",
       "      <td>4.2</td>\n",
       "      <td>931.0</td>\n",
       "      <td>Malleshwari Dosa, Benne Khali Dosa, Obbattu, R...</td>\n",
       "    </tr>\n",
       "    <tr>\n",
       "      <th>6</th>\n",
       "      <td>Cocktails &amp; Dreams, Speakeasy</td>\n",
       "      <td>Nepalese, Tibetan, Beverages</td>\n",
       "      <td>2500</td>\n",
       "      <td>4.9</td>\n",
       "      <td>1299</td>\n",
       "      <td>3.8</td>\n",
       "      <td>25.0</td>\n",
       "      <td>Classic Martini, Coktails, Bloody Mary, Calama...</td>\n",
       "    </tr>\n",
       "    <tr>\n",
       "      <th>7</th>\n",
       "      <td>Natural Ice Cream</td>\n",
       "      <td>Ice Cream, Desserts</td>\n",
       "      <td>400</td>\n",
       "      <td>4.9</td>\n",
       "      <td>4014</td>\n",
       "      <td>4.5</td>\n",
       "      <td>6969.0</td>\n",
       "      <td>Watermelon Ice Cream, Choco Bite, Chocobite, C...</td>\n",
       "    </tr>\n",
       "    <tr>\n",
       "      <th>...</th>\n",
       "      <td>...</td>\n",
       "      <td>...</td>\n",
       "      <td>...</td>\n",
       "      <td>...</td>\n",
       "      <td>...</td>\n",
       "      <td>...</td>\n",
       "      <td>...</td>\n",
       "      <td>...</td>\n",
       "    </tr>\n",
       "    <tr>\n",
       "      <th>1960</th>\n",
       "      <td>Bablu Chic-Inn</td>\n",
       "      <td>Mughlai, North Indian, Chinese, Fast Food</td>\n",
       "      <td>500</td>\n",
       "      <td>3.9</td>\n",
       "      <td>183</td>\n",
       "      <td>4.1</td>\n",
       "      <td>545.0</td>\n",
       "      <td>Great Recommendations, Tamper Proof Packaging,...</td>\n",
       "    </tr>\n",
       "    <tr>\n",
       "      <th>1961</th>\n",
       "      <td>Kovilakam</td>\n",
       "      <td>South Indian</td>\n",
       "      <td>350</td>\n",
       "      <td>3.9</td>\n",
       "      <td>114</td>\n",
       "      <td>4.0</td>\n",
       "      <td>1.0</td>\n",
       "      <td>Kerala Parotta, Roasted Chicken, Chicken Curry...</td>\n",
       "    </tr>\n",
       "    <tr>\n",
       "      <th>1962</th>\n",
       "      <td>Krips Restaurant</td>\n",
       "      <td>North Indian, Chinese, Mughlai</td>\n",
       "      <td>900</td>\n",
       "      <td>3.9</td>\n",
       "      <td>316</td>\n",
       "      <td>3.9</td>\n",
       "      <td>2977.0</td>\n",
       "      <td>Excellent Food, Good Ambience, Courteous Staff...</td>\n",
       "    </tr>\n",
       "    <tr>\n",
       "      <th>1963</th>\n",
       "      <td>Cafe 147</td>\n",
       "      <td>Cafe, North Indian, Chinese, Kashmiri, Rolls, ...</td>\n",
       "      <td>800</td>\n",
       "      <td>3.9</td>\n",
       "      <td>120</td>\n",
       "      <td>3.8</td>\n",
       "      <td>196.0</td>\n",
       "      <td>Pool, Live Music, Cafe, Environment, Good Plac...</td>\n",
       "    </tr>\n",
       "    <tr>\n",
       "      <th>1964</th>\n",
       "      <td>Pizzasia</td>\n",
       "      <td>Pizza, Fast Food, Beverages</td>\n",
       "      <td>500</td>\n",
       "      <td>3.9</td>\n",
       "      <td>165</td>\n",
       "      <td>3.9</td>\n",
       "      <td>5196.0</td>\n",
       "      <td>Cordial Staff, Great Recommendations, Mouth Wa...</td>\n",
       "    </tr>\n",
       "  </tbody>\n",
       "</table>\n",
       "<p>1362 rows × 8 columns</p>\n",
       "</div>"
      ],
      "text/plain": [
       "                    Restaurant_Name  \\\n",
       "1                         Cafe Lota   \n",
       "3                       Burma Burma   \n",
       "5                     Carnatic Cafe   \n",
       "6     Cocktails & Dreams, Speakeasy   \n",
       "7                 Natural Ice Cream   \n",
       "...                             ...   \n",
       "1960                 Bablu Chic-Inn   \n",
       "1961                      Kovilakam   \n",
       "1962               Krips Restaurant   \n",
       "1963                       Cafe 147   \n",
       "1964                       Pizzasia   \n",
       "\n",
       "                                               Category  Pricing_for_2  \\\n",
       "1           Cafe, South Indian, North Indian, Beverages           1200   \n",
       "3           Asian, Burmese, Bubble Tea, Desserts, Salad           1600   \n",
       "5                                          South Indian            600   \n",
       "6                          Nepalese, Tibetan, Beverages           2500   \n",
       "7                                   Ice Cream, Desserts            400   \n",
       "...                                                 ...            ...   \n",
       "1960          Mughlai, North Indian, Chinese, Fast Food            500   \n",
       "1961                                       South Indian            350   \n",
       "1962                     North Indian, Chinese, Mughlai            900   \n",
       "1963  Cafe, North Indian, Chinese, Kashmiri, Rolls, ...            800   \n",
       "1964                        Pizza, Fast Food, Beverages            500   \n",
       "\n",
       "      Dining_Rating  Dining_Review_Count  Delivery_Rating  \\\n",
       "1               4.9                 3748              3.9   \n",
       "3               4.9                 2636              4.4   \n",
       "5               4.9                 2518              4.2   \n",
       "6               4.9                 1299              3.8   \n",
       "7               4.9                 4014              4.5   \n",
       "...             ...                  ...              ...   \n",
       "1960            3.9                  183              4.1   \n",
       "1961            3.9                  114              4.0   \n",
       "1962            3.9                  316              3.9   \n",
       "1963            3.9                  120              3.8   \n",
       "1964            3.9                  165              3.9   \n",
       "\n",
       "      Delivery_Rating_Count                                          Known_For  \n",
       "1                      37.0  Pondicherry Fish Curry, Coconut Rabdi, Sabudan...  \n",
       "3                    1238.0  Coconut Milk Dessert, Honey Caviar, Kaffir Lim...  \n",
       "5                     931.0  Malleshwari Dosa, Benne Khali Dosa, Obbattu, R...  \n",
       "6                      25.0  Classic Martini, Coktails, Bloody Mary, Calama...  \n",
       "7                    6969.0  Watermelon Ice Cream, Choco Bite, Chocobite, C...  \n",
       "...                     ...                                                ...  \n",
       "1960                  545.0  Great Recommendations, Tamper Proof Packaging,...  \n",
       "1961                    1.0  Kerala Parotta, Roasted Chicken, Chicken Curry...  \n",
       "1962                 2977.0  Excellent Food, Good Ambience, Courteous Staff...  \n",
       "1963                  196.0  Pool, Live Music, Cafe, Environment, Good Plac...  \n",
       "1964                 5196.0  Cordial Staff, Great Recommendations, Mouth Wa...  \n",
       "\n",
       "[1362 rows x 8 columns]"
      ]
     },
     "execution_count": 53,
     "metadata": {},
     "output_type": "execute_result"
    }
   ],
   "source": [
    "data.dropna()"
   ]
  },
  {
   "cell_type": "code",
   "execution_count": 54,
   "id": "6bc7cebb-4e2b-4ca1-9b1e-731913a75988",
   "metadata": {},
   "outputs": [
    {
     "data": {
      "text/plain": [
       "Restaurant_Name          False\n",
       "Category                 False\n",
       "Pricing_for_2            False\n",
       "Dining_Rating            False\n",
       "Dining_Review_Count      False\n",
       "Delivery_Rating          False\n",
       "Delivery_Rating_Count     True\n",
       "Known_For                False\n",
       "dtype: bool"
      ]
     },
     "execution_count": 54,
     "metadata": {},
     "output_type": "execute_result"
    }
   ],
   "source": [
    "data.isnull().any()"
   ]
  },
  {
   "cell_type": "code",
   "execution_count": 55,
   "id": "e5099ad9-1bd0-41fd-9b05-e91b1bd0379a",
   "metadata": {},
   "outputs": [],
   "source": [
    "data.dropna(inplace= True)"
   ]
  },
  {
   "cell_type": "code",
   "execution_count": 56,
   "id": "a7d44d07-21c5-401e-b498-4c18492e911d",
   "metadata": {},
   "outputs": [
    {
     "data": {
      "text/plain": [
       "(1362, 8)"
      ]
     },
     "execution_count": 56,
     "metadata": {},
     "output_type": "execute_result"
    }
   ],
   "source": [
    "data.shape"
   ]
  },
  {
   "cell_type": "code",
   "execution_count": 57,
   "id": "63bed441-3769-4cc6-ba45-d5e1d7e6584b",
   "metadata": {},
   "outputs": [
    {
     "data": {
      "text/plain": [
       "<bound method Series.unique of 1         37.0\n",
       "3       1238.0\n",
       "5        931.0\n",
       "6         25.0\n",
       "7       6969.0\n",
       "         ...  \n",
       "1960     545.0\n",
       "1961       1.0\n",
       "1962    2977.0\n",
       "1963     196.0\n",
       "1964    5196.0\n",
       "Name: Delivery_Rating_Count, Length: 1362, dtype: float64>"
      ]
     },
     "execution_count": 57,
     "metadata": {},
     "output_type": "execute_result"
    }
   ],
   "source": [
    "data['Delivery_Rating_Count'].unique"
   ]
  },
  {
   "cell_type": "code",
   "execution_count": 58,
   "id": "786a2f25-652e-449d-98d7-8e0f7be6c2ca",
   "metadata": {},
   "outputs": [],
   "source": [
    "data.to_csv('cleaned_dataset.csv', index= False)"
   ]
  },
  {
   "cell_type": "code",
   "execution_count": 59,
   "id": "9f7a145e-f2fd-4187-acb8-4732fa0d2cee",
   "metadata": {},
   "outputs": [],
   "source": [
    "import pandas as pd \n",
    "import numpy as no "
   ]
  },
  {
   "cell_type": "code",
   "execution_count": 60,
   "id": "e6c08118-1bc7-4769-b519-c626984a45a8",
   "metadata": {},
   "outputs": [],
   "source": [
    "data2= pd.read_csv(\"C:/Users/Dell/Desktop/python/final_data.csv\")"
   ]
  },
  {
   "cell_type": "code",
   "execution_count": 61,
   "id": "c885b000-7090-4082-884d-524e7a15bb93",
   "metadata": {},
   "outputs": [],
   "source": [
    "data3= data2[['Restaurant_Name','Locality']]"
   ]
  },
  {
   "cell_type": "code",
   "execution_count": 62,
   "id": "917ddc5d-ee6a-4a2b-b4af-bd73069fe7ed",
   "metadata": {},
   "outputs": [
    {
     "data": {
      "text/plain": [
       "Restaurant_Name    False\n",
       "Locality           False\n",
       "dtype: bool"
      ]
     },
     "execution_count": 62,
     "metadata": {},
     "output_type": "execute_result"
    }
   ],
   "source": [
    "data3.isnull().any()"
   ]
  },
  {
   "cell_type": "code",
   "execution_count": 64,
   "id": "452bc260-29c1-4f38-a1d8-e6c8b23435c1",
   "metadata": {},
   "outputs": [
    {
     "data": {
      "text/plain": [
       "Index(['Restaurant_Name', 'Category', 'Pricing_for_2', 'Dining_Rating',\n",
       "       'Dining_Review_Count', 'Delivery_Rating', 'Delivery_Rating_Count',\n",
       "       'Known_For'],\n",
       "      dtype='object')"
      ]
     },
     "execution_count": 64,
     "metadata": {},
     "output_type": "execute_result"
    }
   ],
   "source": [
    "data.columns"
   ]
  },
  {
   "cell_type": "code",
   "execution_count": 68,
   "id": "febfb62d-451e-48d0-b887-389f8b5921e8",
   "metadata": {},
   "outputs": [],
   "source": [
    "merged_data = pd.merge(data, data3, on= 'Restaurant_Name', how= 'inner')"
   ]
  },
  {
   "cell_type": "code",
   "execution_count": 70,
   "id": "efc64ab8-d451-4b7f-a793-99211317e9ec",
   "metadata": {},
   "outputs": [
    {
     "data": {
      "text/html": [
       "<div>\n",
       "<style scoped>\n",
       "    .dataframe tbody tr th:only-of-type {\n",
       "        vertical-align: middle;\n",
       "    }\n",
       "\n",
       "    .dataframe tbody tr th {\n",
       "        vertical-align: top;\n",
       "    }\n",
       "\n",
       "    .dataframe thead th {\n",
       "        text-align: right;\n",
       "    }\n",
       "</style>\n",
       "<table border=\"1\" class=\"dataframe\">\n",
       "  <thead>\n",
       "    <tr style=\"text-align: right;\">\n",
       "      <th></th>\n",
       "      <th>Restaurant_Name</th>\n",
       "      <th>Category</th>\n",
       "      <th>Pricing_for_2</th>\n",
       "      <th>Dining_Rating</th>\n",
       "      <th>Dining_Review_Count</th>\n",
       "      <th>Delivery_Rating</th>\n",
       "      <th>Delivery_Rating_Count</th>\n",
       "      <th>Known_For</th>\n",
       "      <th>Locality</th>\n",
       "    </tr>\n",
       "  </thead>\n",
       "  <tbody>\n",
       "    <tr>\n",
       "      <th>0</th>\n",
       "      <td>Cafe Lota</td>\n",
       "      <td>Cafe, South Indian, North Indian, Beverages</td>\n",
       "      <td>1200</td>\n",
       "      <td>4.9</td>\n",
       "      <td>3748</td>\n",
       "      <td>3.9</td>\n",
       "      <td>37.0</td>\n",
       "      <td>Pondicherry Fish Curry, Coconut Rabdi, Sabudan...</td>\n",
       "      <td>Pragati Maidan, New Delhi</td>\n",
       "    </tr>\n",
       "    <tr>\n",
       "      <th>1</th>\n",
       "      <td>Burma Burma</td>\n",
       "      <td>Asian, Burmese, Bubble Tea, Desserts, Salad</td>\n",
       "      <td>1600</td>\n",
       "      <td>4.9</td>\n",
       "      <td>2636</td>\n",
       "      <td>4.4</td>\n",
       "      <td>1238.0</td>\n",
       "      <td>Coconut Milk Dessert, Honey Caviar, Kaffir Lim...</td>\n",
       "      <td>Cyber Hub, DLF Cyber City, Gurgaon</td>\n",
       "    </tr>\n",
       "    <tr>\n",
       "      <th>2</th>\n",
       "      <td>Carnatic Cafe</td>\n",
       "      <td>South Indian</td>\n",
       "      <td>600</td>\n",
       "      <td>4.9</td>\n",
       "      <td>2518</td>\n",
       "      <td>4.2</td>\n",
       "      <td>931.0</td>\n",
       "      <td>Malleshwari Dosa, Benne Khali Dosa, Obbattu, R...</td>\n",
       "      <td>Lodhi Colony, New Delhi</td>\n",
       "    </tr>\n",
       "    <tr>\n",
       "      <th>3</th>\n",
       "      <td>Cocktails &amp; Dreams, Speakeasy</td>\n",
       "      <td>Nepalese, Tibetan, Beverages</td>\n",
       "      <td>2500</td>\n",
       "      <td>4.9</td>\n",
       "      <td>1299</td>\n",
       "      <td>3.8</td>\n",
       "      <td>25.0</td>\n",
       "      <td>Classic Martini, Coktails, Bloody Mary, Calama...</td>\n",
       "      <td>Sector 15, Gurgaon</td>\n",
       "    </tr>\n",
       "    <tr>\n",
       "      <th>4</th>\n",
       "      <td>Natural Ice Cream</td>\n",
       "      <td>Ice Cream, Desserts</td>\n",
       "      <td>400</td>\n",
       "      <td>4.9</td>\n",
       "      <td>4014</td>\n",
       "      <td>4.5</td>\n",
       "      <td>6969.0</td>\n",
       "      <td>Watermelon Ice Cream, Choco Bite, Chocobite, C...</td>\n",
       "      <td>Connaught Place, New Delhi</td>\n",
       "    </tr>\n",
       "  </tbody>\n",
       "</table>\n",
       "</div>"
      ],
      "text/plain": [
       "                 Restaurant_Name                                     Category  \\\n",
       "0                      Cafe Lota  Cafe, South Indian, North Indian, Beverages   \n",
       "1                    Burma Burma  Asian, Burmese, Bubble Tea, Desserts, Salad   \n",
       "2                  Carnatic Cafe                                 South Indian   \n",
       "3  Cocktails & Dreams, Speakeasy                 Nepalese, Tibetan, Beverages   \n",
       "4              Natural Ice Cream                          Ice Cream, Desserts   \n",
       "\n",
       "   Pricing_for_2  Dining_Rating  Dining_Review_Count  Delivery_Rating  \\\n",
       "0           1200            4.9                 3748              3.9   \n",
       "1           1600            4.9                 2636              4.4   \n",
       "2            600            4.9                 2518              4.2   \n",
       "3           2500            4.9                 1299              3.8   \n",
       "4            400            4.9                 4014              4.5   \n",
       "\n",
       "   Delivery_Rating_Count                                          Known_For  \\\n",
       "0                   37.0  Pondicherry Fish Curry, Coconut Rabdi, Sabudan...   \n",
       "1                 1238.0  Coconut Milk Dessert, Honey Caviar, Kaffir Lim...   \n",
       "2                  931.0  Malleshwari Dosa, Benne Khali Dosa, Obbattu, R...   \n",
       "3                   25.0  Classic Martini, Coktails, Bloody Mary, Calama...   \n",
       "4                 6969.0  Watermelon Ice Cream, Choco Bite, Chocobite, C...   \n",
       "\n",
       "                              Locality  \n",
       "0            Pragati Maidan, New Delhi  \n",
       "1   Cyber Hub, DLF Cyber City, Gurgaon  \n",
       "2              Lodhi Colony, New Delhi  \n",
       "3                   Sector 15, Gurgaon  \n",
       "4           Connaught Place, New Delhi  "
      ]
     },
     "execution_count": 70,
     "metadata": {},
     "output_type": "execute_result"
    }
   ],
   "source": [
    "merged_data.head()"
   ]
  },
  {
   "cell_type": "code",
   "execution_count": 73,
   "id": "1333f88c-6af2-4b1b-bcf8-6d6e0dcf64ab",
   "metadata": {},
   "outputs": [
    {
     "data": {
      "text/plain": [
       "np.False_"
      ]
     },
     "execution_count": 73,
     "metadata": {},
     "output_type": "execute_result"
    }
   ],
   "source": [
    "merged_data.isnull().any().any()"
   ]
  }
 ],
 "metadata": {
  "kernelspec": {
   "display_name": "Python 3 (ipykernel)",
   "language": "python",
   "name": "python3"
  },
  "language_info": {
   "codemirror_mode": {
    "name": "ipython",
    "version": 3
   },
   "file_extension": ".py",
   "mimetype": "text/x-python",
   "name": "python",
   "nbconvert_exporter": "python",
   "pygments_lexer": "ipython3",
   "version": "3.12.6"
  }
 },
 "nbformat": 4,
 "nbformat_minor": 5
}
